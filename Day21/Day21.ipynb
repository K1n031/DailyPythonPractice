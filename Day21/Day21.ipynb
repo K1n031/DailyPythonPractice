{
 "cells": [
  {
   "cell_type": "code",
   "execution_count": 2,
   "metadata": {},
   "outputs": [
    {
     "name": "stdout",
     "output_type": "stream",
     "text": [
      "he who conquers himself is the mightiest warrior try not to become a man of success but rather become a man of value one man with courage makes a majority one secret of success in life is for a man to be ready for his opportunity when it comes the successful man will profit from his mistakes and try again in a different way a successful man is one who can lay a firm foundation with the bricks others have thrown at him success usually comes to those who are too busy looking for it we cannot solve problems with the kind of thinking we employed when we came up with them just one small positive thought in the morning can change your whole day you can get everything in life you want if you will just help enough other people get what they want\n"
     ]
    }
   ],
   "source": [
    "\"\"\"\n",
    "Câu 1: Đọc file data.txt có trong dataset trên và lưu vào biến data\n",
    "sau khi loại bỏ các ký tự \\n và thay thế bằng khoảng trắng, đồng thời chuyển\n",
    "về chữ cái thường toàn bộ văn bản\n",
    "\"\"\"\n",
    "\n",
    "with open(\"data.txt\", \"r\") as f:\n",
    "    data = f.read().replace(\"\\n\", \" \").lower()\n",
    "\n",
    "print(data)"
   ]
  },
  {
   "cell_type": "code",
   "execution_count": 7,
   "metadata": {},
   "outputs": [
    {
     "name": "stdout",
     "output_type": "stream",
     "text": [
      "['he', 'who', 'conquers', 'himself', 'is', 'the', 'mightiest', 'warrior', 'try', 'not', 'to', 'become', 'a', 'man', 'of', 'success', 'but', 'rather', 'become', 'a', 'man', 'of', 'value', 'one', 'man', 'with', 'courage', 'makes', 'a', 'majority', 'one', 'secret', 'of', 'success', 'in', 'life', 'is', 'for', 'a', 'man', 'to', 'be', 'ready', 'for', 'his', 'opportunity', 'when', 'it', 'comes', 'the', 'successful', 'man', 'will', 'profit', 'from', 'his', 'mistakes', 'and', 'try', 'again', 'in', 'a', 'different', 'way', 'a', 'successful', 'man', 'is', 'one', 'who', 'can', 'lay', 'a', 'firm', 'foundation', 'with', 'the', 'bricks', 'others', 'have', 'thrown', 'at', 'him', 'success', 'usually', 'comes', 'to', 'those', 'who', 'are', 'too', 'busy', 'looking', 'for', 'it', 'we', 'cannot', 'solve', 'problems', 'with', 'the', 'kind', 'of', 'thinking', 'we', 'employed', 'when', 'we', 'came', 'up', 'with', 'them', 'just', 'one', 'small', 'positive', 'thought', 'in', 'the', 'morning', 'can', 'change', 'your', 'whole', 'day', 'you', 'can', 'get', 'everything', 'in', 'life', 'you', 'want', 'if', 'you', 'will', 'just', 'help', 'enough', 'other', 'people', 'get', 'what', 'they', 'want']\n"
     ]
    }
   ],
   "source": [
    "\"\"\"\n",
    "Câu 2: Phân tích văn bản trên và lưu voà biến distinct_words các chữ cái\n",
    "duy nhất trong câu\n",
    "\"\"\"\n",
    "\n",
    "distinct_words = []\n",
    "\n",
    "with open(\"data.txt\", \"r\") as f:\n",
    "    content = f.read()\n",
    "    words = content.split() \n",
    "    for word in words:\n",
    "        distinct_words.append(word.lower())\n",
    "\n",
    "print(distinct_words)"
   ]
  },
  {
   "cell_type": "code",
   "execution_count": 16,
   "metadata": {},
   "outputs": [
    {
     "name": "stdout",
     "output_type": "stream",
     "text": [
      "\"a\" is most frequent word\n",
      "['he', 'conquers', 'himself', 'mightiest', 'warrior', 'not', 'but', 'rather', 'value', 'courage', 'makes', 'majority', 'secret', 'be', 'ready', 'opportunity', 'profit', 'from', 'mistakes', 'and', 'again', 'different', 'way', 'lay', 'firm', 'foundation', 'bricks', 'others', 'have', 'thrown', 'at', 'him', 'usually', 'those', 'are', 'too', 'busy', 'looking', 'cannot', 'solve', 'problems', 'kind', 'thinking', 'employed', 'came', 'up', 'them', 'small', 'positive', 'thought', 'morning', 'change', 'your', 'whole', 'day', 'everything', 'if', 'help', 'enough', 'other', 'people', 'what', 'they'] is the least common word\n"
     ]
    }
   ],
   "source": [
    "\"\"\"\n",
    "Câu 3: Đếm số lần từng chữ trong distinct_words xuất hiện và cho biết\n",
    "chữ nào xuất hiện nhiều nhất và ít nhất\n",
    "\"\"\"\n",
    "\n",
    "distinct_words = []\n",
    "\n",
    "with open(\"data.txt\", \"r\") as f:\n",
    "    content = f.read()\n",
    "    words = content.split()\n",
    "    for word in words:\n",
    "        word_lower = word.lower()\n",
    "        if word_lower not in distinct_words:\n",
    "            distinct_words.append(word_lower)\n",
    "\n",
    "word_counts = {}\n",
    "for word in words:\n",
    "    word_lower = word.lower()\n",
    "    if word_lower in word_counts:\n",
    "        word_counts[word_lower] += 1\n",
    "    else:\n",
    "        word_counts[word_lower] = 1\n",
    "\n",
    "unique_words = [word for word, count in word_counts.items() if count == 1]\n",
    "sorted_word_counts = sorted(word_counts.items(), key=lambda x: x[1], reverse=True)\n",
    "most_common_word = sorted_word_counts[0][0]\n",
    "\n",
    "print(f'\"{most_common_word}\" is most frequent word')\n",
    "print(f\"{unique_words} is the least common words\" )"
   ]
  }
 ],
 "metadata": {
  "kernelspec": {
   "display_name": "aio24_env",
   "language": "python",
   "name": "python3"
  },
  "language_info": {
   "codemirror_mode": {
    "name": "ipython",
    "version": 3
   },
   "file_extension": ".py",
   "mimetype": "text/x-python",
   "name": "python",
   "nbconvert_exporter": "python",
   "pygments_lexer": "ipython3",
   "version": "3.11.7"
  }
 },
 "nbformat": 4,
 "nbformat_minor": 2
}
