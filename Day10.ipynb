{
 "cells": [
  {
   "cell_type": "code",
   "execution_count": 2,
   "metadata": {},
   "outputs": [
    {
     "name": "stdout",
     "output_type": "stream",
     "text": [
      "WARNING:tensorflow:From c:\\Users\\namti\\anaconda3\\envs\\aio24_env\\Lib\\site-packages\\keras\\src\\losses.py:2976: The name tf.losses.sparse_softmax_cross_entropy is deprecated. Please use tf.compat.v1.losses.sparse_softmax_cross_entropy instead.\n",
      "\n"
     ]
    }
   ],
   "source": [
    "import numpy as np\n",
    "import torch\n",
    "import tensorflow as tf"
   ]
  },
  {
   "cell_type": "code",
   "execution_count": 6,
   "metadata": {},
   "outputs": [
    {
     "name": "stdout",
     "output_type": "stream",
     "text": [
      "Mảng NumPy:  [1 2 3 4 5 6] <class 'numpy.ndarray'>\n",
      "Tensor Torch:  tensor([1, 2, 3, 4, 5, 6])\n",
      "Tensor TensorFlow:  tf.Tensor([1 2 3 4 5 6], shape=(6,), dtype=int32)\n"
     ]
    }
   ],
   "source": [
    "#Câu 1: Hãy viết chương trình tạo Numpy array, Tensorflow tensor, Pytorch tensor từ danh sách 1 chiều?\n",
    "\n",
    "list_1D = [1, 2, 3, 4, 5, 6]\n",
    "\n",
    "array_1D = np.array(list_1D)\n",
    "tensor_torch_1D = torch.tensor(list_1D)\n",
    "tensor_tensorflow_1D = tf.convert_to_tensor(list_1D)\n",
    "\n",
    "print(\"Mảng NumPy: \", array_1D, type(array_1D))\n",
    "print(\"Tensor Torch: \", tensor_torch_1D)\n",
    "print(\"Tensor TensorFlow: \", tensor_tensorflow_1D)"
   ]
  },
  {
   "cell_type": "code",
   "execution_count": 10,
   "metadata": {},
   "outputs": [
    {
     "name": "stdout",
     "output_type": "stream",
     "text": [
      "Hình dạng của mảng:  (3, 3)\n",
      "Kiểu dữ liệu:  int32\n",
      "Loại của mảng:  <class 'numpy.ndarray'>\n",
      "Mảng: \n",
      " [[1 2 3]\n",
      " [4 5 6]\n",
      " [7 8 9]]\n"
     ]
    }
   ],
   "source": [
    "#Câu 2: Hãy viết chương trình tạo Numpy array, Tensorflow tensor, Pytorch tensor từ danh sách 2\n",
    "#chiều. Sau đó thực hiện kiểm tra thuộc tính shape, dtype, type, device từ các array, tensor vừa tạo?\n",
    "\n",
    "#Array NumPy\n",
    "list_2D = [[1, 2, 3],\n",
    "           [4, 5, 6],\n",
    "           [7, 8, 9]]\n",
    "\n",
    "array_2D = np.array(list_2D)\n",
    "print(\"Hình dạng của mảng: \", array_2D.shape)\n",
    "print(\"Kiểu dữ liệu: \", array_2D.dtype)\n",
    "print(\"Loại của mảng: \", type(array_2D))\n",
    "print(\"Mảng: \\n\", array_2D)\n"
   ]
  },
  {
   "cell_type": "code",
   "execution_count": 11,
   "metadata": {},
   "outputs": [
    {
     "name": "stdout",
     "output_type": "stream",
     "text": [
      "Hình dạng của Tensor:  torch.Size([3, 3])\n",
      "Kiểu dữ liệu:  torch.int64\n",
      "Loại của Tensor:  <class 'torch.Tensor'>\n",
      "Thiết bị lưu trữ của Tensor:  cpu\n",
      "Tensor: \n",
      " tensor([[1, 2, 3],\n",
      "        [4, 5, 6],\n",
      "        [7, 8, 9]])\n"
     ]
    }
   ],
   "source": [
    "#Tensor Torch\n",
    "tensor_torch_2D = torch.tensor(list_2D)\n",
    "print(\"Hình dạng của Tensor: \", tensor_torch_2D.shape)\n",
    "print(\"Kiểu dữ liệu: \", tensor_torch_2D.dtype)\n",
    "print(\"Loại của Tensor: \", type(tensor_torch_2D))\n",
    "print(\"Thiết bị lưu trữ của Tensor: \", tensor_torch_2D.device)\n",
    "print(\"Tensor: \\n\", tensor_torch_2D)"
   ]
  },
  {
   "cell_type": "code",
   "execution_count": 12,
   "metadata": {},
   "outputs": [
    {
     "name": "stdout",
     "output_type": "stream",
     "text": [
      "Hình dạng của Tensor:  (3, 3)\n",
      "Kiểu dữ liệu:  <dtype: 'int32'>\n",
      "Loại của Tensor:  <class 'tensorflow.python.framework.ops.EagerTensor'>\n",
      "Thiết bị lưu trữ của Tensor:  /job:localhost/replica:0/task:0/device:CPU:0\n",
      "Tensor: \n",
      " tf.Tensor(\n",
      "[[1 2 3]\n",
      " [4 5 6]\n",
      " [7 8 9]], shape=(3, 3), dtype=int32)\n"
     ]
    }
   ],
   "source": [
    "#Tensor tensorFlow\n",
    "tensor_tensorflow_2D = tf.constant(list_2D)\n",
    "print(\"Hình dạng của Tensor: \", tensor_tensorflow_2D.shape)\n",
    "print(\"Kiểu dữ liệu: \", tensor_tensorflow_2D.dtype)\n",
    "print(\"Loại của Tensor: \", type(tensor_tensorflow_2D))\n",
    "print(\"Thiết bị lưu trữ của Tensor: \", tensor_tensorflow_2D.device)\n",
    "print(\"Tensor: \\n\", tensor_tensorflow_2D)"
   ]
  }
 ],
 "metadata": {
  "kernelspec": {
   "display_name": "aio24_env",
   "language": "python",
   "name": "python3"
  },
  "language_info": {
   "codemirror_mode": {
    "name": "ipython",
    "version": 3
   },
   "file_extension": ".py",
   "mimetype": "text/x-python",
   "name": "python",
   "nbconvert_exporter": "python",
   "pygments_lexer": "ipython3",
   "version": "3.11.7"
  }
 },
 "nbformat": 4,
 "nbformat_minor": 2
}
