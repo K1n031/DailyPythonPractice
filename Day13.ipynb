{
 "cells": [
  {
   "cell_type": "code",
   "execution_count": 7,
   "metadata": {},
   "outputs": [
    {
     "name": "stdout",
     "output_type": "stream",
     "text": [
      "Vị trí None đầu tiên: 2 - Danh sách vị trí có giá trị None: [2, 4, 6]\n"
     ]
    }
   ],
   "source": [
    "# Tạo List có tên lst_data = [1, 1.1, None, 1.4, None, 1.5, None, 2.0]. Sau đó áp dụng phương pháp\n",
    "# tìm kiếm để tìm vị trí có giá trị None có trong lst_data theo 2 cách: tìm vị trí None đầu tiên\n",
    "# và tìm tất cả vị trí có giá trị None\n",
    "\n",
    "lst_data = [1, 1.1, None, 1.4, None, 1.5, None, 2.0]\n",
    "lst_none = []\n",
    "\n",
    "for i, value in enumerate(lst_data):\n",
    "    if value is None:\n",
    "        lst_none.append(i)\n",
    "\n",
    "print(f'Vị trí None đầu tiên: {lst_none[0]} - Danh sách vị trí có giá trị None: {lst_none}')"
   ]
  }
 ],
 "metadata": {
  "kernelspec": {
   "display_name": "aio24_env",
   "language": "python",
   "name": "python3"
  },
  "language_info": {
   "codemirror_mode": {
    "name": "ipython",
    "version": 3
   },
   "file_extension": ".py",
   "mimetype": "text/x-python",
   "name": "python",
   "nbconvert_exporter": "python",
   "pygments_lexer": "ipython3",
   "version": "3.11.7"
  }
 },
 "nbformat": 4,
 "nbformat_minor": 2
}
