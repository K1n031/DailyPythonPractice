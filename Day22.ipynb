{
 "cells": [
  {
   "cell_type": "code",
   "execution_count": 2,
   "metadata": {},
   "outputs": [
    {
     "name": "stdout",
     "output_type": "stream",
     "text": [
      "96 lần\n"
     ]
    }
   ],
   "source": [
    "import random\n",
    "def random_number_with_codition(total):\n",
    "    \"\"\"\n",
    "    Chọn ngẫu nhiên 2 số a và b thuộc từ 1 - 20 sao cho tổng a + b = total\n",
    "    Chúng ta phải tạo ngẫu nhiên bao nhiêu lần đê thoả mãn điều kiện trên?\n",
    "    \"\"\"\n",
    "    random.seed(0)\n",
    "    count = 0\n",
    "    found = False\n",
    "    while not found:\n",
    "        a = random.randint(1, 20)\n",
    "        b = random.randint(1, 20)\n",
    "        count += 1\n",
    "        if a + b == total:\n",
    "            found = True\n",
    "    return count\n",
    "\n",
    "print(f\"{random_number_with_codition(35)} lần\")"
   ]
  },
  {
   "cell_type": "code",
   "execution_count": 52,
   "metadata": {},
   "outputs": [
    {
     "name": "stdout",
     "output_type": "stream",
     "text": [
      "105\n"
     ]
    }
   ],
   "source": [
    "def find_divisible_number(a):\n",
    "    \"\"\"\n",
    "    Cài hàm find_divisible_number(a) tìm số nguyên dương nhỏ nhất lớn hơn\n",
    "    100 và chia hết cho a\n",
    "    \"\"\"\n",
    "    n = 101\n",
    "    while True:\n",
    "        if n % a == 0:\n",
    "            break\n",
    "        n += 1\n",
    "    return n\n",
    "\n",
    "print(find_divisible_number(5))"
   ]
  },
  {
   "cell_type": "code",
   "execution_count": 63,
   "metadata": {},
   "outputs": [
    {
     "name": "stdout",
     "output_type": "stream",
     "text": [
      "1.7321428571428572\n"
     ]
    }
   ],
   "source": [
    "def find_squared_root(a):\n",
    "    \"\"\"\n",
    "    Find the squared root of number a\n",
    "    \"\"\"\n",
    "    EPSILON = 0.001\n",
    "    x = a / 2\n",
    "    while True:\n",
    "        f = x * x - a\n",
    "        if abs(f) <= EPSILON:\n",
    "            break\n",
    "        x = x - f / (2 * x)\n",
    "    return x\n",
    "\n",
    "print(find_squared_root(3))\n",
    "    "
   ]
  }
 ],
 "metadata": {
  "kernelspec": {
   "display_name": "aio24_env",
   "language": "python",
   "name": "python3"
  },
  "language_info": {
   "codemirror_mode": {
    "name": "ipython",
    "version": 3
   },
   "file_extension": ".py",
   "mimetype": "text/x-python",
   "name": "python",
   "nbconvert_exporter": "python",
   "pygments_lexer": "ipython3",
   "version": "3.11.7"
  }
 },
 "nbformat": 4,
 "nbformat_minor": 2
}
