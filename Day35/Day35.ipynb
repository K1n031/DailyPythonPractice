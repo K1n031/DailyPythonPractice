{
 "cells": [
  {
   "cell_type": "code",
   "execution_count": 1,
   "metadata": {},
   "outputs": [
    {
     "data": {
      "text/plain": [
       "<sqlite3.Cursor at 0x15a576d8ac0>"
      ]
     },
     "execution_count": 1,
     "metadata": {},
     "output_type": "execute_result"
    }
   ],
   "source": [
    "import sqlite3\n",
    "import pandas as pd\n",
    "\n",
    "connection = sqlite3.connect('database.sqlite')\n",
    "cursor = connection.cursor()\n",
    "\n",
    "# Tạo bảng PRODUCTS\n",
    "cursor.execute(\"\"\"\n",
    "create table if not exists PRODUCTS (\n",
    "    ID integer primary key,\n",
    "    NAME text not null,\n",
    "    PRICE integer not null\n",
    ");\n",
    "\"\"\")"
   ]
  },
  {
   "cell_type": "code",
   "execution_count": 2,
   "metadata": {},
   "outputs": [
    {
     "name": "stdout",
     "output_type": "stream",
     "text": [
      "   ID             NAME     PRICE\n",
      "0   1        Iphone 15  18000000\n",
      "1   2  Galaxy Z-Fold 5  30000000\n"
     ]
    }
   ],
   "source": [
    "# Insert data mới\n",
    "cursor.execute(\"\"\"\n",
    "insert into PRODUCTS (ID, NAME, PRICE) values (1, 'Iphone 15', 18000000), (2, 'Galaxy Z-Fold 5', 30000000);\n",
    "\"\"\")\n",
    "connection.commit()\n",
    "\n",
    "data = pd.read_sql_query(\"select * from PRODUCTS\", connection)\n",
    "print(data)"
   ]
  },
  {
   "cell_type": "code",
   "execution_count": 3,
   "metadata": {},
   "outputs": [
    {
     "name": "stdout",
     "output_type": "stream",
     "text": [
      "   ID             NAME     PRICE\n",
      "0   1        Iphone 15  18000000\n",
      "1   2  Galaxy Z-Fold 5  50000000\n"
     ]
    }
   ],
   "source": [
    "# Hãy cập nhật giá mới cho Galaxy Z-Fold 5 thành 50.000.000\n",
    "cursor.execute(\"\"\"\n",
    "update PRODUCTS \n",
    "    set PRICE = 50000000 \n",
    "    where ID = 2;\n",
    "\"\"\")\n",
    "connection.commit()\n",
    "\n",
    "data = pd.read_sql_query(\"select * from PRODUCTS\", connection)\n",
    "print(data)"
   ]
  },
  {
   "cell_type": "code",
   "execution_count": 4,
   "metadata": {},
   "outputs": [
    {
     "name": "stdout",
     "output_type": "stream",
     "text": [
      "   ID             NAME     PRICE\n",
      "0   2  Galaxy Z-Fold 5  50000000\n"
     ]
    }
   ],
   "source": [
    "# Hãy xóa iPhone 15 ra khỏi CSDL\n",
    "cursor.execute(\"\"\"\n",
    "delete from PRODUCTS \n",
    "    where ID = 1;\n",
    "\"\"\")\n",
    "connection.commit()\n",
    "\n",
    "data = pd.read_sql_query(\"select * from PRODUCTS\", connection)\n",
    "print(data)\n"
   ]
  }
 ],
 "metadata": {
  "kernelspec": {
   "display_name": "aio24_env",
   "language": "python",
   "name": "python3"
  },
  "language_info": {
   "codemirror_mode": {
    "name": "ipython",
    "version": 3
   },
   "file_extension": ".py",
   "mimetype": "text/x-python",
   "name": "python",
   "nbconvert_exporter": "python",
   "pygments_lexer": "ipython3",
   "version": "3.11.7"
  }
 },
 "nbformat": 4,
 "nbformat_minor": 2
}
