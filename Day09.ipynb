{
 "cells": [
  {
   "cell_type": "code",
   "execution_count": 4,
   "metadata": {},
   "outputs": [
    {
     "name": "stdout",
     "output_type": "stream",
     "text": [
      "Median: 5.5\n"
     ]
    }
   ],
   "source": [
    "#Median\n",
    "#Câu 1: Tạo 1 List tên lst_data, gồm các số từ 1 - 10\n",
    "lst_data = [1, 2, 3, 4, 5, 6, 7, 8, 9, 10]"
   ]
  },
  {
   "cell_type": "code",
   "execution_count": 6,
   "metadata": {},
   "outputs": [
    {
     "name": "stdout",
     "output_type": "stream",
     "text": [
      "Median: 5.5\n"
     ]
    }
   ],
   "source": [
    "#Câu 2: Tính giá trị trung vị từ lst_data vừa tạo (không dùng numpy)\n",
    "lst_data.sort()\n",
    "n = len(lst_data)\n",
    "mid_idx = n/2\n",
    "\n",
    "if n % 2 != 0:\n",
    "    m = mid_idx + 1/2\n",
    "if n % 2 == 0:\n",
    "    m = (mid_idx + mid_idx + 1)/2\n",
    "\n",
    "print(f'Median: {m}')"
   ]
  },
  {
   "cell_type": "code",
   "execution_count": 5,
   "metadata": {},
   "outputs": [
    {
     "name": "stdout",
     "output_type": "stream",
     "text": [
      "[9, 7, 5, 3, 1]\n"
     ]
    }
   ],
   "source": [
    "#Câu 3: Lọc các giá trị số lẻ trong lst_data và lưu vào\n",
    "#list mới tên: lst_odd_filter với thứ tự giảm dần (Sử dụng\n",
    "#phương thức reverse=True trong hàm sort/sorted)\n",
    "lst_odd_filter = []\n",
    "for i in lst_data:\n",
    "    if i % 2 != 0:\n",
    "        lst_odd_filter.append(i)\n",
    "lst_odd_filter.sort(reverse=True)\n",
    "print(lst_odd_filter)"
   ]
  }
 ],
 "metadata": {
  "kernelspec": {
   "display_name": "aio24_env",
   "language": "python",
   "name": "python3"
  },
  "language_info": {
   "codemirror_mode": {
    "name": "ipython",
    "version": 3
   },
   "file_extension": ".py",
   "mimetype": "text/x-python",
   "name": "python",
   "nbconvert_exporter": "python",
   "pygments_lexer": "ipython3",
   "version": "3.11.7"
  }
 },
 "nbformat": 4,
 "nbformat_minor": 2
}
