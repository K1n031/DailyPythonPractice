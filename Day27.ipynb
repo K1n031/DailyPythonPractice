{
 "cells": [
  {
   "cell_type": "code",
   "execution_count": 8,
   "metadata": {},
   "outputs": [
    {
     "data": {
      "text/plain": [
       "'\\nHãy thực hiện các task: POS Tagging, Text Classsification, Sentiment Analysis,\\nSentence Segmentation, Word Segmentation đoạn văn bản sau:\\nCông cụ Suno AI nhanh chóng nhận được sự chú ý từ người dùng khi có thể\\ntạo bài hát chỉ với vài câu lệnh. Phiên bản mới nhất V3 Alpha mới được giới\\nthiệu cuối tháng 2, có bản miễn phí với 10 bài hát mỗi ngày.\\n'"
      ]
     },
     "execution_count": 8,
     "metadata": {},
     "output_type": "execute_result"
    }
   ],
   "source": [
    "from underthesea import word_tokenize\n",
    "from underthesea import sent_tokenize\n",
    "from underthesea import pos_tag\n",
    "from underthesea import classify\n",
    "from underthesea import sentiment\n",
    "\n",
    "\"\"\"\n",
    "Hãy thực hiện các task: POS Tagging, Text Classsification, Sentiment Analysis,\n",
    "Sentence Segmentation, Word Segmentation đoạn văn bản sau:\n",
    "Công cụ Suno AI nhanh chóng nhận được sự chú ý từ người dùng khi có thể\n",
    "tạo bài hát chỉ với vài câu lệnh. Phiên bản mới nhất V3 Alpha mới được giới\n",
    "thiệu cuối tháng 2, có bản miễn phí với 10 bài hát mỗi ngày.\n",
    "\"\"\""
   ]
  },
  {
   "cell_type": "code",
   "execution_count": 4,
   "metadata": {},
   "outputs": [
    {
     "name": "stdout",
     "output_type": "stream",
     "text": [
      "POS Tagging: [('Công cụ', 'N'), ('Suno', 'Np'), ('AI', 'P'), ('nhanh chóng', 'A'), ('nhận', 'V'), ('được', 'R'), ('sự', 'N'), ('chú ý', 'V'), ('từ', 'E'), ('người', 'N'), ('dùng', 'V'), ('khi', 'N'), ('có thể', 'R'), ('tạo', 'V'), ('bài', 'N'), ('hát', 'V'), ('chỉ', 'R'), ('với', 'E'), ('vài', 'L'), ('câu', 'N'), ('lệnh', 'N'), ('.', 'CH'), ('Phiên bản', 'V'), ('mới', 'A'), ('nhất', 'A'), ('V3 Alpha', 'Np'), ('mới', 'R'), ('được', 'V'), ('giới thiệu', 'V'), ('cuối', 'N'), ('tháng', 'N'), ('2', 'M'), (',', 'CH'), ('có', 'V'), ('bản', 'N'), ('miễn phí', 'V'), ('với', 'E'), ('10', 'M'), ('bài', 'N'), ('hát', 'V'), ('mỗi', 'L'), ('ngày', 'N'), ('.', 'CH')]\n"
     ]
    }
   ],
   "source": [
    "text = \"Công cụ Suno AI nhanh chóng nhận được sự chú ý từ người dùng khi có thể tạo bài hát chỉ với vài câu lệnh. Phiên bản mới nhất V3 Alpha mới được giới thiệu cuối tháng 2, có bản miễn phí với 10 bài hát mỗi ngày.\"\n",
    "\n",
    "# POS Tagging\n",
    "print(\"POS Tagging:\", pos_tag(text))\n"
   ]
  },
  {
   "cell_type": "code",
   "execution_count": 3,
   "metadata": {},
   "outputs": [
    {
     "name": "stdout",
     "output_type": "stream",
     "text": [
      "Text Classification: ['vi_tinh']\n"
     ]
    }
   ],
   "source": [
    "# Text Classification\n",
    "print(\"Text Classification:\", classify(text))"
   ]
  },
  {
   "cell_type": "code",
   "execution_count": 5,
   "metadata": {},
   "outputs": [
    {
     "name": "stdout",
     "output_type": "stream",
     "text": [
      "2024-03-26 08:24:42,631 https://github.com/undertheseanlp/playground/releases/download/1.3.x/sa_svm_vlsp2016-sa_20210107.zip not found in cache, downloading to C:\\Users\\namti\\AppData\\Local\\Temp\\tmp0v_mrfki\n"
     ]
    },
    {
     "name": "stderr",
     "output_type": "stream",
     "text": [
      "100%|██████████| 2234880/2234880 [00:01<00:00, 1725821.08B/s]"
     ]
    },
    {
     "name": "stdout",
     "output_type": "stream",
     "text": [
      "2024-03-26 08:24:45,857 copying C:\\Users\\namti\\AppData\\Local\\Temp\\tmp0v_mrfki to cache at C:\\Users\\namti\\.underthesea\\models\\sa_svm_vlsp2016-sa_20210107.zip\n",
      "2024-03-26 08:24:45,870 removing temp file C:\\Users\\namti\\AppData\\Local\\Temp\\tmp0v_mrfki\n"
     ]
    },
    {
     "name": "stderr",
     "output_type": "stream",
     "text": [
      "\n"
     ]
    },
    {
     "name": "stdout",
     "output_type": "stream",
     "text": [
      "Sentiment Analysis: positive\n"
     ]
    }
   ],
   "source": [
    "# Sentiment Analysis\n",
    "print(\"Sentiment Analysis:\", sentiment(text))"
   ]
  },
  {
   "cell_type": "code",
   "execution_count": 9,
   "metadata": {},
   "outputs": [
    {
     "name": "stdout",
     "output_type": "stream",
     "text": [
      "Sentence Segmentation: ['Công cụ Suno AI nhanh chóng nhận được sự chú ý từ người dùng khi có thể tạo bài hát chỉ với vài câu lệnh.', 'Phiên bản mới nhất V3 Alpha mới được giới thiệu cuối tháng 2, có bản miễn phí với 10 bài hát mỗi ngày.']\n"
     ]
    }
   ],
   "source": [
    "# Sentence Segmentation\n",
    "print(\"Sentence Segmentation:\", sent_tokenize(text))"
   ]
  },
  {
   "cell_type": "code",
   "execution_count": 10,
   "metadata": {},
   "outputs": [
    {
     "name": "stdout",
     "output_type": "stream",
     "text": [
      "Word Segmentation: ['Công cụ', 'Suno', 'AI', 'nhanh chóng', 'nhận', 'được', 'sự', 'chú ý', 'từ', 'người', 'dùng', 'khi', 'có thể', 'tạo', 'bài', 'hát', 'chỉ', 'với', 'vài', 'câu', 'lệnh', '.', 'Phiên bản', 'mới', 'nhất', 'V3 Alpha', 'mới', 'được', 'giới thiệu', 'cuối', 'tháng', '2', ',', 'có', 'bản', 'miễn phí', 'với', '10', 'bài', 'hát', 'mỗi', 'ngày', '.']\n"
     ]
    }
   ],
   "source": [
    "# Word Segmentation\n",
    "print(\"Word Segmentation:\", word_tokenize(text))"
   ]
  }
 ],
 "metadata": {
  "kernelspec": {
   "display_name": "aio24_env",
   "language": "python",
   "name": "python3"
  },
  "language_info": {
   "codemirror_mode": {
    "name": "ipython",
    "version": 3
   },
   "file_extension": ".py",
   "mimetype": "text/x-python",
   "name": "python",
   "nbconvert_exporter": "python",
   "pygments_lexer": "ipython3",
   "version": "3.11.7"
  }
 },
 "nbformat": 4,
 "nbformat_minor": 2
}
