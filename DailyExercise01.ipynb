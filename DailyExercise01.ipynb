{
 "cells": [
  {
   "cell_type": "code",
   "execution_count": 6,
   "metadata": {},
   "outputs": [
    {
     "name": "stdout",
     "output_type": "stream",
     "text": [
      "11\n"
     ]
    }
   ],
   "source": [
    "def get_max(data):\n",
    "    max_value = data[0]\n",
    "    for i in range(len(data)):\n",
    "        if data[i] > max_value:\n",
    "            max_value = data[i]\n",
    "    return max_value\n",
    "\n",
    "data1 = [1, 5, 2, 91, -10]\n",
    "assert get_max(data1) == 91\n",
    "\n",
    "data2 = [2, 5, -5, 10, 11]\n",
    "print(get_max(data2))"
   ]
  },
  {
   "cell_type": "code",
   "execution_count": 1,
   "metadata": {},
   "outputs": [
    {
     "name": "stdout",
     "output_type": "stream",
     "text": [
      "-5\n"
     ]
    }
   ],
   "source": [
    "def get_min(data):\n",
    "    min_value = data[0]\n",
    "    for i in range(len(data)):\n",
    "        if data[i] < min_value:\n",
    "            min_value = data[i]\n",
    "    return min_value\n",
    "\n",
    "data1 = [1, 5, 2, 91, -10]\n",
    "assert get_min(data1) == -10\n",
    "\n",
    "data2 = [2, 5, -5, 10, 11]\n",
    "print(get_min(data2))"
   ]
  },
  {
   "cell_type": "code",
   "execution_count": 5,
   "metadata": {},
   "outputs": [
    {
     "name": "stdout",
     "output_type": "stream",
     "text": [
      "2\n"
     ]
    }
   ],
   "source": [
    "def count(data, value):\n",
    "    count = 0\n",
    "    for item in data:\n",
    "        if item == value:\n",
    "            count += 1\n",
    "    return count\n",
    "\n",
    "data1 = [1 , 5 , 2 , -10 , 5 , 10 , 5]\n",
    "assert count(data1, 5) == 3\n",
    "\n",
    "data2 = [5, 4, 2, 10, 4, 8, 1, 3]\n",
    "print(count(data2, 4))"
   ]
  },
  {
   "cell_type": "code",
   "execution_count": 9,
   "metadata": {},
   "outputs": [
    {
     "name": "stdout",
     "output_type": "stream",
     "text": [
      "25\n"
     ]
    }
   ],
   "source": [
    "def get_sum(data):\n",
    "    sum_value = 0\n",
    "    for i in data:\n",
    "        sum_value += i\n",
    "    return sum_value\n",
    "\n",
    "data1 = [1, 5, 2, 8, -1]\n",
    "assert get_sum(data1) == 15\n",
    "\n",
    "data2 = [5, 4, 2, 10, 4]\n",
    "print(get_sum(data2))"
   ]
  },
  {
   "cell_type": "code",
   "execution_count": 10,
   "metadata": {},
   "outputs": [
    {
     "name": "stdout",
     "output_type": "stream",
     "text": [
      "24\n"
     ]
    }
   ],
   "source": [
    "def get_sum_even(data):\n",
    "    sum_value = 0\n",
    "    for i in data:\n",
    "        if i%2 == 0:\n",
    "            sum_value += i\n",
    "    return sum_value\n",
    "\n",
    "data1 = [1, 5, 2, 4, -10, 5]\n",
    "assert get_sum_even(data1) == -4\n",
    "\n",
    "data2 = [5, 4, 2, 10, 3, 8]\n",
    "print(get_sum_even(data2))"
   ]
  },
  {
   "cell_type": "code",
   "execution_count": 14,
   "metadata": {},
   "outputs": [
    {
     "name": "stdout",
     "output_type": "stream",
     "text": [
      "4.6\n"
     ]
    }
   ],
   "source": [
    "def get_mean(data):\n",
    "    sum_value = 0\n",
    "    for i in data:\n",
    "        sum_value += i\n",
    "    mean_value = round(sum_value/len(data), 1)\n",
    "    return mean_value\n",
    "\n",
    "data1 = [1, 5, 2, 7, -3]\n",
    "assert get_mean(data1) == 2.4\n",
    "\n",
    "data2 = [2, 5, -5, 10, 11]\n",
    "print(get_mean(data2))"
   ]
  },
  {
   "cell_type": "code",
   "execution_count": 17,
   "metadata": {},
   "outputs": [
    {
     "name": "stdout",
     "output_type": "stream",
     "text": [
      "False\n"
     ]
    }
   ],
   "source": [
    "def contain(data, value):\n",
    "    for item in data:\n",
    "        if item == value:\n",
    "            return True\n",
    "    return False\n",
    "\n",
    "data1 = [1, 5, 2, 91, -10]\n",
    "assert contain(data1, 5) == True\n",
    "\n",
    "data2 = [2, 5, -5, 10, 11]\n",
    "print(contain(data2, 3))"
   ]
  }
 ],
 "metadata": {
  "kernelspec": {
   "display_name": "aio24_env",
   "language": "python",
   "name": "python3"
  },
  "language_info": {
   "codemirror_mode": {
    "name": "ipython",
    "version": 3
   },
   "file_extension": ".py",
   "mimetype": "text/x-python",
   "name": "python",
   "nbconvert_exporter": "python",
   "pygments_lexer": "ipython3",
   "version": "3.11.7"
  }
 },
 "nbformat": 4,
 "nbformat_minor": 2
}
