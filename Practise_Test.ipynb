{
 "cells": [
  {
   "cell_type": "code",
   "execution_count": 1,
   "metadata": {},
   "outputs": [
    {
     "name": "stdout",
     "output_type": "stream",
     "text": [
      "4500\n"
     ]
    }
   ],
   "source": [
    "n = 0\n",
    "for i in range(0, 1000, 100):\n",
    "    n += i\n",
    "print(n)"
   ]
  },
  {
   "cell_type": "code",
   "execution_count": 2,
   "metadata": {},
   "outputs": [
    {
     "name": "stdout",
     "output_type": "stream",
     "text": [
      "['pos', 'neg', 'neg', 'pos']\n"
     ]
    }
   ],
   "source": [
    "def a_function_helper(x):\n",
    "    if x > 0:\n",
    "        return \"pos\"\n",
    "    else:\n",
    "        return \"neg\"\n",
    "    \n",
    "def a_function(x):\n",
    "    res = [a_function_helper(x) for x in data]\n",
    "    return res\n",
    "data = [1, 0, -1, 2]\n",
    "print(a_function(data))"
   ]
  },
  {
   "cell_type": "code",
   "execution_count": 3,
   "metadata": {},
   "outputs": [
    {
     "name": "stdout",
     "output_type": "stream",
     "text": [
      "Python\n"
     ]
    }
   ],
   "source": [
    "data = \"Python Programming\"\n",
    "print(data.split()[0])"
   ]
  },
  {
   "cell_type": "code",
   "execution_count": 4,
   "metadata": {},
   "outputs": [
    {
     "data": {
      "text/plain": [
       "True"
      ]
     },
     "execution_count": 4,
     "metadata": {},
     "output_type": "execute_result"
    }
   ],
   "source": [
    "\"elephant\"*1 > \"ant\"*100"
   ]
  },
  {
   "cell_type": "code",
   "execution_count": 6,
   "metadata": {},
   "outputs": [
    {
     "name": "stdout",
     "output_type": "stream",
     "text": [
      "[0, 0, 1, 1, 1, 1]\n"
     ]
    }
   ],
   "source": [
    "def my_function(signal):\n",
    "    var = True\n",
    "    while var:\n",
    "        var = False\n",
    "        for i in range(len(signal) - 1):\n",
    "            if signal[i] > signal[i + 1]:\n",
    "                signal[i], signal[i + 1] = signal[i + 1], signal[i]\n",
    "                var = True\n",
    "my_signal = [1, 0, 0, 1, 1, 1]\n",
    "my_function(my_signal)\n",
    "print(my_signal)"
   ]
  },
  {
   "cell_type": "code",
   "execution_count": 7,
   "metadata": {},
   "outputs": [
    {
     "data": {
      "text/plain": [
       "2.5"
      ]
     },
     "execution_count": 7,
     "metadata": {},
     "output_type": "execute_result"
    }
   ],
   "source": [
    "def my_function(list_nums = [1, 2, 3, 4]):\n",
    "    var = 0\n",
    "    for i in list_nums:\n",
    "        var += i\n",
    "    return var/len(list_nums)\n",
    "\n",
    "my_function()"
   ]
  },
  {
   "cell_type": "code",
   "execution_count": 9,
   "metadata": {},
   "outputs": [
    {
     "name": "stdout",
     "output_type": "stream",
     "text": [
      "spring\n"
     ]
    }
   ],
   "source": [
    "space1 = \"It’s sunny here!\"\n",
    "space2 = \"Is it hot here in the spring?\"\n",
    "space = space1 + space2\n",
    "print(space[-7:-1])\n"
   ]
  },
  {
   "cell_type": "code",
   "execution_count": 18,
   "metadata": {},
   "outputs": [
    {
     "name": "stdout",
     "output_type": "stream",
     "text": [
      "['D', 'o', 'u', ',', ' ', 'c', 'm', 'e', 'h', 'r', '!']\n"
     ]
    }
   ],
   "source": [
    "my_string = \"Dou, come here!\"\n",
    "\n",
    "my_bag_of_words = []\n",
    "for element in my_string:\n",
    "    if element not in my_bag_of_words:\n",
    "        my_bag_of_words.append(element)\n",
    "print(my_bag_of_words)"
   ]
  },
  {
   "cell_type": "code",
   "execution_count": 20,
   "metadata": {},
   "outputs": [
    {
     "name": "stdout",
     "output_type": "stream",
     "text": [
      "6\n"
     ]
    }
   ],
   "source": [
    "def my_function(y):\n",
    "    var = 1\n",
    "    while (y > 1):\n",
    "        var *= y\n",
    "        y -= 1\n",
    "    return var\n",
    "\n",
    "print(my_function(3))"
   ]
  },
  {
   "cell_type": "code",
   "execution_count": 2,
   "metadata": {},
   "outputs": [
    {
     "name": "stdout",
     "output_type": "stream",
     "text": [
      "[1, 3, 5]\n",
      "[1, 51, 81]\n",
      "[2, 99, 23]\n"
     ]
    }
   ],
   "source": [
    "X = [[1, 1, 2], [3, 51, 99], [5, 81, 23]]\n",
    "\n",
    "result = [[0, 0, 0], [0, 0, 0], [0, 0, 0]]\n",
    "\n",
    "for i in range(len(X)):\n",
    "    for j in range(len(X[0])):\n",
    "        result[j][i] = X[i][j]\n",
    "\n",
    "for r in result:\n",
    "    print(r)"
   ]
  },
  {
   "cell_type": "code",
   "execution_count": 3,
   "metadata": {},
   "outputs": [
    {
     "name": "stdout",
     "output_type": "stream",
     "text": [
      "[3, 6, 9]\n"
     ]
    }
   ],
   "source": [
    "even_numbers = [x for x in range(3, 12) if x % 3 == 0]\n",
    "print(even_numbers)"
   ]
  },
  {
   "cell_type": "code",
   "execution_count": 4,
   "metadata": {},
   "outputs": [
    {
     "name": "stdout",
     "output_type": "stream",
     "text": [
      "14\n"
     ]
    }
   ],
   "source": [
    "def my_function(my_data):\n",
    "    rs = 0\n",
    "    for i in my_data:\n",
    "        rs += i\n",
    "    return rs\n",
    "\n",
    "my_list = [2, 3, 4, 5]\n",
    "print(my_function(my_data=my_list))"
   ]
  },
  {
   "cell_type": "code",
   "execution_count": 7,
   "metadata": {},
   "outputs": [
    {
     "name": "stdout",
     "output_type": "stream",
     "text": [
      "[{'friends': ['Tom', 'Mike', 'Taylor']}, 2002, 2099, 3000, 'moon']\n"
     ]
    }
   ],
   "source": [
    "def my_function(my_data):\n",
    "    result = []\n",
    "    for element in data:\n",
    "        if element not in result:\n",
    "            result.append(element)\n",
    "    return result\n",
    "\n",
    "data = [{'friends':['Tom', 'Mike', 'Taylor']}, 2002, 2099, 3000, 'moon']\n",
    "print ( my_function ( data ) )\n"
   ]
  },
  {
   "cell_type": "code",
   "execution_count": 8,
   "metadata": {},
   "outputs": [
    {
     "data": {
      "text/plain": [
       "[-1, -4, -9, 2, 3, 5, 0, 0, 0]"
      ]
     },
     "execution_count": 8,
     "metadata": {},
     "output_type": "execute_result"
    }
   ],
   "source": [
    "def my_function(x, y):\n",
    "    x.extend((y))\n",
    "    return x\n",
    "\n",
    "list1 = [-1, -4, -9]\n",
    "list2 = [2, 3, 5]\n",
    "list3 = [0, 0, 0]\n",
    "\n",
    "my_function(list1, my_function(list2, list3))"
   ]
  },
  {
   "cell_type": "code",
   "execution_count": 9,
   "metadata": {},
   "outputs": [
    {
     "name": "stdout",
     "output_type": "stream",
     "text": [
      "This test is very easy I Love It!\n"
     ]
    }
   ],
   "source": [
    "Ann = '@This tEst is Very eaSy @@'\n",
    "David = 'i love iT!'\n",
    "\n",
    "txt = Ann.strip('@').capitalize() + David.title()\n",
    "print(txt)"
   ]
  }
 ],
 "metadata": {
  "kernelspec": {
   "display_name": "aio24_env",
   "language": "python",
   "name": "python3"
  },
  "language_info": {
   "codemirror_mode": {
    "name": "ipython",
    "version": 3
   },
   "file_extension": ".py",
   "mimetype": "text/x-python",
   "name": "python",
   "nbconvert_exporter": "python",
   "pygments_lexer": "ipython3",
   "version": "3.11.7"
  }
 },
 "nbformat": 4,
 "nbformat_minor": 2
}
