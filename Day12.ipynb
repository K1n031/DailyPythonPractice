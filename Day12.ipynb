{
 "cells": [
  {
   "cell_type": "code",
   "execution_count": null,
   "metadata": {},
   "outputs": [],
   "source": [
    "import numpy as np\n",
    "import tensorflow as tf\n",
    "import torch\n",
    "\n",
    "# Câu 1: Hãy viết chương trình sử dụng hàm zeros tạo Numpy array, Tensorflow tensor, Pytorch tensor\n",
    "# chỉ chứa giá trị là số 0 với kích thước (3, 4)?\n",
    "numpy_arr_zeros = np.zeros((3, 4))\n",
    "tensorflow_tensor_zeros = tf.zeros((3, 4))\n",
    "torch_tensor_zeros = torch.zeros((3, 4))\n",
    "\n",
    "print(numpy_arr_zeros, \"\\n\")\n",
    "print(tensorflow_tensor_zeros, \"\\n\")\n",
    "print(torch_tensor_zeros)"
   ]
  },
  {
   "cell_type": "code",
   "execution_count": null,
   "metadata": {},
   "outputs": [],
   "source": [
    "# Câu 2: Hãy viết chương trình sử dụng hàm ones tạo Numpy array, Tensorflow tensor, Pytorch tensor\n",
    "# chỉ chứa giá trị là số 1 với kích thước (3, 4)?\n",
    "numpy_arr_ones = np.ones((3, 4))\n",
    "tensorflow_tensor_ones = tf.ones((3, 4))\n",
    "torch_tensor_ones = torch.ones((3, 4))\n",
    "\n",
    "print(numpy_arr_ones, \"\\n\")\n",
    "print(tensorflow_tensor_ones, \"\\n\")\n",
    "print(torch_tensor_ones)"
   ]
  },
  {
   "cell_type": "code",
   "execution_count": null,
   "metadata": {},
   "outputs": [],
   "source": [
    "# Câu 3: Hãy viết chương trình tạo Numpy array, Tensorflow tensor, Pytorch tensor chỉ chứa giá trị là\n",
    "# số 5 với kích thước (3, 4)?\n",
    "numpy_arr = np.full((3, 4), 5)\n",
    "tensorflow_tensor = tf.fill((3, 4), 5)\n",
    "torch_tensor = torch.full((3, 4), 5)\n",
    "\n",
    "print(numpy_arr, \"\\n\")\n",
    "print(tensorflow_tensor, \"\\n\")\n",
    "print(torch_tensor)"
   ]
  }
 ],
 "metadata": {
  "kernelspec": {
   "display_name": "aio24_env",
   "language": "python",
   "name": "python3"
  },
  "language_info": {
   "codemirror_mode": {
    "name": "ipython",
    "version": 3
   },
   "file_extension": ".py",
   "mimetype": "text/x-python",
   "name": "python",
   "nbconvert_exporter": "python",
   "pygments_lexer": "ipython3",
   "version": "3.11.7"
  }
 },
 "nbformat": 4,
 "nbformat_minor": 2
}
