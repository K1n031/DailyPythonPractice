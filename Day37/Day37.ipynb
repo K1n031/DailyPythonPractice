{
 "cells": [
  {
   "cell_type": "code",
   "execution_count": null,
   "metadata": {},
   "outputs": [],
   "source": [
    "from pypdf import PdfReader\n",
    "\n",
    "# Đọc file pdf\n",
    "reader = PdfReader('yolov9.pdf')\n",
    "\n",
    "# Lấy số trang\n",
    "num_pages = len(reader.pages)\n",
    "\n",
    "# Lấy nội dung của trang 1\n",
    "page_1 = reader.pages[0]\n",
    "page_1_content = page_1.extract_text()\n",
    "\n",
    "# Lấy nội dung toàn bộ trang\n",
    "page_content = ''\n",
    "for i in range(num_pages):\n",
    "    page = reader.pages[i]\n",
    "    page_content += page.extract_text() + \"\\n\"\n",
    "\n",
    "print(page_content)\n"
   ]
  },
  {
   "cell_type": "code",
   "execution_count": 4,
   "metadata": {},
   "outputs": [],
   "source": [
    "# Lấy hình ảnh từ file pdf\n",
    "count = 0\n",
    "for page in reader.pages:\n",
    "    for image_file_object in page.images:\n",
    "        with open(str(count) + image_file_object.name , \"wb\") as fp:\n",
    "            fp.write(image_file_object.data)\n",
    "            count += 1"
   ]
  },
  {
   "cell_type": "code",
   "execution_count": 6,
   "metadata": {},
   "outputs": [],
   "source": [
    "# Nối file pdf\n",
    "from pypdf import PdfWriter\n",
    "\n",
    "merger = PdfWriter()\n",
    "for pdf in [\"yolov6.pdf\", \"yolov7.pdf\", \"yolov9.pdf\"]:\n",
    "    merger.append(pdf)\n",
    "\n",
    "merger.write(\"mergerd-yolov679.pdf\")\n",
    "merger.close()"
   ]
  },
  {
   "cell_type": "code",
   "execution_count": 7,
   "metadata": {},
   "outputs": [],
   "source": [
    "from pypdf import PdfWriter\n",
    "\n",
    "writer = PdfWriter(clone_from = \"yolov9.pdf\")\n",
    "\n",
    "for page in writer.pages:\n",
    "    page.compress_content_streams(level=8)\n",
    "\n",
    "with open(\"out.pdf\", \"wb\") as f:\n",
    "    writer.write(f)"
   ]
  },
  {
   "cell_type": "code",
   "execution_count": 8,
   "metadata": {},
   "outputs": [
    {
     "name": "stdout",
     "output_type": "stream",
     "text": [
      "yolov9.pdf size: 4.738467216491699 MB\n",
      "out.pdf size: 4.718204498291016 MB\n"
     ]
    }
   ],
   "source": [
    "import os\n",
    "\n",
    "file_size = os.path.getsize(\"yolov9.pdf\") / (1024 * 1024)\n",
    "print(f\"yolov9.pdf size: {file_size} MB\")\n",
    "\n",
    "file_out = os.path.getsize(\"out.pdf\") / (1024 * 1024)\n",
    "print(f\"out.pdf size: {file_out} MB\")"
   ]
  }
 ],
 "metadata": {
  "kernelspec": {
   "display_name": "aio24_env",
   "language": "python",
   "name": "python3"
  },
  "language_info": {
   "codemirror_mode": {
    "name": "ipython",
    "version": 3
   },
   "file_extension": ".py",
   "mimetype": "text/x-python",
   "name": "python",
   "nbconvert_exporter": "python",
   "pygments_lexer": "ipython3",
   "version": "3.11.7"
  }
 },
 "nbformat": 4,
 "nbformat_minor": 2
}
