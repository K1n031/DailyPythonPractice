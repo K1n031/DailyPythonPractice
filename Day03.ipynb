{
 "cells": [
  {
   "cell_type": "code",
   "execution_count": 28,
   "metadata": {},
   "outputs": [],
   "source": [
    "import math\n",
    "\n",
    "def quadratic_equation(a, b, c):\n",
    "    x1=0\n",
    "    x2=0\n",
    "    delta = b**2 - (4 * a * c)\n",
    "\n",
    "    if a == 0:\n",
    "        if b==0:\n",
    "            return \"Phương trình vô nghiệm\"\n",
    "        else:\n",
    "            x1 = x2 = -c / b\n",
    "            return x1\n",
    "    else:\n",
    "        if delta > 0:\n",
    "            x1 = (-b + math.sqrt(delta)) / (2 * a)\n",
    "            x2 = (-b - math.sqrt(delta)) / (2 * a)\n",
    "            return x1, x2\n",
    "        elif delta == 0:\n",
    "            x1 = x2 = -b / (2 * a)\n",
    "            return x1\n",
    "        else:\n",
    "            return \"Phương trình vô nghiệm\"\n"
   ]
  },
  {
   "cell_type": "code",
   "execution_count": 29,
   "metadata": {},
   "outputs": [
    {
     "name": "stdout",
     "output_type": "stream",
     "text": [
      "(-1.0, -2.0)\n"
     ]
    }
   ],
   "source": [
    "print(quadratic_equation(2, 6, 4))\n"
   ]
  },
  {
   "cell_type": "code",
   "execution_count": 30,
   "metadata": {},
   "outputs": [
    {
     "name": "stdout",
     "output_type": "stream",
     "text": [
      "-1.0\n"
     ]
    }
   ],
   "source": [
    "print(quadratic_equation(1, 2, 1))\n"
   ]
  },
  {
   "cell_type": "code",
   "execution_count": 31,
   "metadata": {},
   "outputs": [
    {
     "name": "stdout",
     "output_type": "stream",
     "text": [
      "Phương trình vô nghiệm\n"
     ]
    }
   ],
   "source": [
    "print(quadratic_equation(4, 6, 3))"
   ]
  },
  {
   "cell_type": "code",
   "execution_count": 32,
   "metadata": {},
   "outputs": [
    {
     "name": "stdout",
     "output_type": "stream",
     "text": [
      "-0.8333333333333334\n"
     ]
    }
   ],
   "source": [
    "print(quadratic_equation(0, 6, 5))"
   ]
  }
 ],
 "metadata": {
  "kernelspec": {
   "display_name": "aio24_env",
   "language": "python",
   "name": "python3"
  },
  "language_info": {
   "codemirror_mode": {
    "name": "ipython",
    "version": 3
   },
   "file_extension": ".py",
   "mimetype": "text/x-python",
   "name": "python",
   "nbconvert_exporter": "python",
   "pygments_lexer": "ipython3",
   "version": "3.11.7"
  }
 },
 "nbformat": 4,
 "nbformat_minor": 2
}
