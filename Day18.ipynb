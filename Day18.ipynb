{
 "cells": [
  {
   "cell_type": "code",
   "execution_count": 31,
   "metadata": {},
   "outputs": [
    {
     "name": "stdout",
     "output_type": "stream",
     "text": [
      "['AI', 'listen', 'music.']\n"
     ]
    }
   ],
   "source": [
    "# Hãy loại bỏ các từ trong stop_words = [\"I\", \"love\", \"and\", \"to\"] câu đầu vào \"I love AI and listen to music\"\n",
    "# Hãy áp dụng List comprehension và for để thực hiện\n",
    "\n",
    "stop_words = [\"I\", \"love\", \"and\", \"to\"]\n",
    "input = \"I love AI and listen to music.\"\n",
    "output = \"\"\n",
    "\n",
    "input = input.split()\n",
    "output = [words for words in input if words not in stop_words]\n",
    "print(output)"
   ]
  },
  {
   "cell_type": "code",
   "execution_count": 30,
   "metadata": {},
   "outputs": [
    {
     "name": "stdout",
     "output_type": "stream",
     "text": [
      "Result_vector1=(5, 6)\n",
      "Result_vector2=(9, 18)\n",
      "3.1622776601683795\n",
      "Index=(1, 0)\n"
     ]
    }
   ],
   "source": [
    "# Câu 1: Tạo mới 2 Tuple: my_tuple1 = (2, 3), my_tuple2 = (3, 6), mỗi Tuple\n",
    "# có 2 phần tử đại diện co một vector trong không gian 2D\n",
    "import math\n",
    "\n",
    "my_tuple1 = (2, 3)\n",
    "my_tuple2 = (3, 6)\n",
    "\n",
    "# Câu 2: In ra kết quả tổng và tích của 2 vector trên\n",
    "sum_tuple1 = 0\n",
    "for number in my_tuple1:\n",
    "    sum_tuple1 += number\n",
    "product_tuple1 = math.prod(my_tuple1)\n",
    "result_vector1 = (sum_tuple1, product_tuple1)\n",
    "\n",
    "sum_tuple2 = 0\n",
    "for number in my_tuple2:\n",
    "    sum_tuple2 += number\n",
    "product_tuple2 = math.prod(my_tuple2)\n",
    "result_vector2 = (sum_tuple2, product_tuple2)\n",
    "\n",
    "print(f\"Result_vector1={result_vector1}\")\n",
    "print(f\"Result_vector2={result_vector2}\")\n",
    "\n",
    "# Câu 3: In ra kết quả của khoảng cách của 2 vector trên theo công thức\n",
    "# Biết distance (P, Q) = distance(P, Q) = sqrt((p1 - q1)^2 + (p2 - q2)^2 + ... + (pn - qn)^2)\n",
    "\n",
    "square_sum = 0\n",
    "for x, y in zip(my_tuple1, my_tuple2):\n",
    "    square_sum += (x - y)**2\n",
    "    distance = math.sqrt(square_sum)\n",
    "print(distance)\n",
    "\n",
    "# Câu 4: In ra vị trí của phần tử có giá trị là 3 sử dụng cú pháp my_tuple.index(values)\n",
    "# để trích xuất vị trí của giá trị cần tìm\n",
    "\n",
    "index_tuple1 = my_tuple1.index(3)\n",
    "index_tuple2 = my_tuple2.index(3)\n",
    "index = (index_tuple1, index_tuple2)\n",
    "print(f\"Index={index}\")"
   ]
  }
 ],
 "metadata": {
  "kernelspec": {
   "display_name": "aio24_env",
   "language": "python",
   "name": "python3"
  },
  "language_info": {
   "codemirror_mode": {
    "name": "ipython",
    "version": 3
   },
   "file_extension": ".py",
   "mimetype": "text/x-python",
   "name": "python",
   "nbconvert_exporter": "python",
   "pygments_lexer": "ipython3",
   "version": "3.11.7"
  }
 },
 "nbformat": 4,
 "nbformat_minor": 2
}
