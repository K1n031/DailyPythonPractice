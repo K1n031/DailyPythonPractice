{
 "cells": [
  {
   "cell_type": "code",
   "execution_count": 2,
   "metadata": {},
   "outputs": [],
   "source": [
    "import numpy as np\n",
    "import tensorflow as tf\n",
    "import torch"
   ]
  },
  {
   "cell_type": "code",
   "execution_count": 6,
   "metadata": {},
   "outputs": [
    {
     "name": "stdout",
     "output_type": "stream",
     "text": [
      "Numpy array:  [0 1 2 3 4 5 6 7 8 9]\n",
      "Tensorflow tensor:  tf.Tensor([0 1 2 3 4 5 6 7 8 9], shape=(10,), dtype=int32)\n",
      "Pytorch tensor:  tensor([0, 1, 2, 3, 4, 5, 6, 7, 8, 9])\n"
     ]
    }
   ],
   "source": [
    "\"\"\"\n",
    "Câu 1: Hãy viết chương trình tạo Numpy array, Tensorflow tensor, Pytorch tensor trong khoảng [0, 10)\n",
    "với step=1?\n",
    "\"\"\"\n",
    "# Numpy array\n",
    "np_array = np.arange(0, 10, 1)\n",
    "print(\"Numpy array: \", np_array)\n",
    "\n",
    "# Tensorflow tensor\n",
    "tf_tensor = tf.range(0, 10, 1)\n",
    "print(\"Tensorflow tensor: \", tf_tensor)\n",
    "\n",
    "# Pytorch tensor\n",
    "pt_tensor = torch.arange(0, 10, 1)\n",
    "print(\"Pytorch tensor: \", pt_tensor)"
   ]
  },
  {
   "cell_type": "code",
   "execution_count": 5,
   "metadata": {},
   "outputs": [
    {
     "name": "stdout",
     "output_type": "stream",
     "text": [
      "Numpy unit matrix:  [[1. 0. 0.]\n",
      " [0. 1. 0.]\n",
      " [0. 0. 1.]]\n",
      "Tensorflow unit matrix:  tf.Tensor(\n",
      "[[1. 0. 0.]\n",
      " [0. 1. 0.]\n",
      " [0. 0. 1.]], shape=(3, 3), dtype=float32)\n",
      "Pytorch unit matrix:  tensor([[1., 0., 0.],\n",
      "        [0., 1., 0.],\n",
      "        [0., 0., 1.]])\n"
     ]
    }
   ],
   "source": [
    "\"\"\"\n",
    "Câu 2: Hãy viết chương trình tạo Numpy array, Tensorflow tensor, Pytorch tensor là ma trận đơn vị\n",
    "với kích thước (3, 3).\n",
    "\"\"\"\n",
    "# Numpy unit matrix\n",
    "np_unit_matrix = np.eye(3, 3)\n",
    "print(\"Numpy unit matrix: \", np_unit_matrix)\n",
    "\n",
    "# Tensorflow unit matrix\n",
    "tf_unit_matrix = tf.eye(3, 3)\n",
    "print(\"Tensorflow unit matrix: \", tf_unit_matrix)\n",
    "\n",
    "# Pytorch unit matrix\n",
    "pt_unit_matrix = torch.eye(3, 3)\n",
    "print(\"Pytorch unit matrix: \", pt_unit_matrix)"
   ]
  },
  {
   "cell_type": "code",
   "execution_count": 4,
   "metadata": {},
   "outputs": [
    {
     "name": "stdout",
     "output_type": "stream",
     "text": [
      "Numpy random matrix:  [[0.58801452 0.69910875 0.18815196 0.04380856]\n",
      " [0.20501895 0.10606287 0.72724014 0.67940052]\n",
      " [0.4738457  0.44829582 0.01910695 0.75259834]]\n",
      "Numpy random integer matrix:  [[ 5  1 -3  8]\n",
      " [-1 -4  0 -9]\n",
      " [-5  9 -6 -2]]\n",
      "Tensorflow random matrix:  tf.Tensor(\n",
      "[[0.90034294 0.19453335 0.36069036 0.66361904]\n",
      " [0.76605344 0.2159369  0.6261736  0.07380784]\n",
      " [0.22062695 0.934368   0.93327904 0.69267046]], shape=(3, 4), dtype=float32)\n",
      "Tensorflow random integer matrix:  tf.Tensor(\n",
      "[[-3 -7  9  3]\n",
      " [ 2 -5 -3 -5]\n",
      " [ 4 -3 -3  5]], shape=(3, 4), dtype=int32)\n",
      "Pytorch random matrix:  tensor([[0.5317, 0.8313, 0.9718, 0.1193],\n",
      "        [0.1669, 0.3495, 0.2150, 0.6201],\n",
      "        [0.4849, 0.7492, 0.1521, 0.5625]])\n",
      "Pytorch random integer matrix:  tensor([[  1,   8,   0,  -2],\n",
      "        [ -9, -10,  -9,   0],\n",
      "        [ -3,  -7,  -4,   8]])\n"
     ]
    }
   ],
   "source": [
    "\"\"\"\n",
    "Câu 3: Hãy viết chương trình tạo Numpy array, Tensorflow tensor, Pytorch tensor ngẫu nhiên trong\n",
    "khoảng giá trị [0, 1] với kích thước (3, 4). Tiếp theo hãy tạo array, tensor với các giá trị là số nguyên\n",
    "trong khoảng [-10, 10]. Lưu ý trong bài tập này, các bạn sẽ sử dụng seed = 2024 để dảm bảo ra kết quả\n",
    "giống đáp án, cách sử dụng như sau:\n",
    "# Numpy code\n",
    "import numpy as np\n",
    "np.random.seed(2024)\n",
    "\n",
    "# Pytorch code\n",
    "import torch\n",
    "torch.manual_seed(2024)\n",
    "\n",
    "# Tensorflow code\n",
    "import tensorflow as tf\n",
    "tf.random.set_seed(2024)\n",
    "\"\"\"\n",
    "# Numpy random matrix\n",
    "np.random.seed(2024)\n",
    "np_random_matrix = np.random.rand(3, 4)\n",
    "print(\"Numpy random matrix: \", np_random_matrix)\n",
    "\n",
    "# Numpy random integer matrix\n",
    "np_random_int_matrix = np.random.randint(-10, 10, (3, 4))\n",
    "print(\"Numpy random integer matrix: \", np_random_int_matrix)\n",
    "\n",
    "# Tensorflow random matrix\n",
    "tf.random.set_seed(2024)\n",
    "tf_random_matrix = tf.random.uniform((3, 4))\n",
    "print(\"Tensorflow random matrix: \", tf_random_matrix)\n",
    "\n",
    "# Tensorflow random integer matrix\n",
    "tf_random_int_matrix = tf.random.uniform((3, 4), -10, 10, dtype=tf.int32)\n",
    "print(\"Tensorflow random integer matrix: \", tf_random_int_matrix)\n",
    "\n",
    "# Pytorch random matrix\n",
    "torch.manual_seed(2024)\n",
    "pt_random_matrix = torch.rand(3, 4)\n",
    "print(\"Pytorch random matrix: \", pt_random_matrix)\n",
    "\n",
    "# Pytorch random integer matrix\n",
    "pt_random_int_matrix = torch.randint(-10, 10, (3, 4))\n",
    "print(\"Pytorch random integer matrix: \", pt_random_int_matrix)"
   ]
  }
 ],
 "metadata": {
  "kernelspec": {
   "display_name": "aio24_env",
   "language": "python",
   "name": "python3"
  },
  "language_info": {
   "codemirror_mode": {
    "name": "ipython",
    "version": 3
   },
   "file_extension": ".py",
   "mimetype": "text/x-python",
   "name": "python",
   "nbconvert_exporter": "python",
   "pygments_lexer": "ipython3",
   "version": "3.11.7"
  }
 },
 "nbformat": 4,
 "nbformat_minor": 2
}
