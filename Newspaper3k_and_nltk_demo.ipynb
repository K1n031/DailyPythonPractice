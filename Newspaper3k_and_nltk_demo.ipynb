{
 "cells": [
  {
   "cell_type": "code",
   "execution_count": 3,
   "metadata": {},
   "outputs": [],
   "source": [
    "from newspaper import Article\n",
    "\n",
    "# Tạo 1 đối tượng Article từ URL của bài báo\n",
    "article = Article(\"https://vnexpress.net/bitcoin-tuot-moc-70-000-usd-4722636.html\")"
   ]
  },
  {
   "cell_type": "code",
   "execution_count": 4,
   "metadata": {},
   "outputs": [],
   "source": [
    "# Tải bài báo\n",
    "article.download()\n",
    "article.parse()"
   ]
  },
  {
   "cell_type": "code",
   "execution_count": 5,
   "metadata": {},
   "outputs": [
    {
     "name": "stdout",
     "output_type": "stream",
     "text": [
      "Thị trường tiền điện tử chìm trong sắc đỏ vào sáng 15/3 khi áp lực chốt lời tăng vọt, Bitcoin mất hơn 6% về dưới mốc 70.000 USD.\n",
      "\n",
      "Áp lực bán tăng vọt sáng 15/3 khiến Bitcoin - tiền số lớn nhất thị trường - giảm từ vùng 73.400 USD xuống 68.000 USD, mất hơn 6%. Trong top 10 tiền điện tử vốn hóa cao nhất thị trường, duy nhất Solana (SOL) giữ được sắc xanh, phần còn lại giảm 5-7%.\n",
      "\n",
      "Những đồng tiền số khác (altcoin) giảm mạnh hơn, đặc biệt ở mức vốn hóa trung bình. Mức giảm phổ biến trong khoảng 10-15% chỉ trong vài giờ.\n",
      "\n",
      "Theo CoinMartketCap, vốn hóa thị trường tiền điện tử giảm gần 6% trong 24 giờ qua, xuống 2.600 tỷ USD. Trong đó, vốn hóa Bitcoin lùi về gần ngưỡng 1.300 tỷ USD.\n",
      "\n",
      "Trừ Solana và stable coin USDT, các tiền số top đầu vốn hóa đều giảm 5-7% trong 24h qua. Ảnh: CoinMarketCap\n",
      "\n",
      "Giới phân tích gần đây cảnh báo rằng Bitcoin (BTC) đã tăng cao hơn bao giờ hết trong tháng qua, đạt được mức kỷ lục gần 74.000 USD, mà không có nhịp điều chỉnh nào.\n",
      "\n",
      "Mỗi lần tiền số lớn nhất thị trường giảm giá đều được lực mua kéo lại nhanh chóng. Tuy nhiên, những nhà quan sát cho rằng sớm hay muộn đồng tiền này cũng bước vào giai đoạn hạ nhiệt.\n",
      "\n",
      "Công ty phân tích tài sản kỹ thuật số Swissblock cho biết trong một báo cáo ngày 13/3, rằng Bitcoin có thể điều chỉnh trong ngắn hạn. \"Không có gì tăng theo một đường thẳng, kể cả Bitcoin. Nhịp điều chỉnh dường như đang đến gần\", các nhà phân tích của Swissblock cho biết.\n",
      "\n",
      "Matrixport - công ty dịch vụ đầu tư tiền điện tử cũng lưu ý rằng đà tăng giá của tiền số đang \"cạn kiệt nhiên liệu\" và dự báo một giai đoạn phân hóa.\n",
      "\n",
      "\"Thị trường vẫn còn dư địa tăng, nhưng chỉ số kỹ thuật đang ở ngưỡng quá mua và giá Bitcoin ở mức cao, là chỉ báo rằng thị trường cần củng cố trước khi tăng trở lại\", các nhà phân tích của Matrixport cho biết.\n",
      "\n",
      "Minh Sơn\n"
     ]
    }
   ],
   "source": [
    "# In bài báo\n",
    "print(article.text)"
   ]
  },
  {
   "cell_type": "code",
   "execution_count": 6,
   "metadata": {},
   "outputs": [
    {
     "name": "stdout",
     "output_type": "stream",
     "text": [
      "{'https://i1-kinhdoanh.vnecdn.net/2024/03/15/bitcoincnbcEEOU-1710475468-1717-1710475544.jpg?w=1200&h=0&q=100&dpr=1&fit=crop&s=nX38QqzcBSRi5VuIKKjvhw', 'https://s1.vnecdn.net/vnexpress/restruct/i/v871/v2_2019/pc/graphics/logo.svg', 'https://s1.vnecdn.net/vnexpress/restruct/c/v2602/v2_2019/pc/images/graphics/menu-myvne.svg', 'data:image/gif;base64,R0lGODlhAQABAAAAACH5BAEKAAEALAAAAAABAAEAAAICTAEAOw=='}\n"
     ]
    }
   ],
   "source": [
    "# Lấy toàn bộ ảnh trong bài báo\n",
    "print(article.images)"
   ]
  },
  {
   "cell_type": "code",
   "execution_count": 15,
   "metadata": {},
   "outputs": [
    {
     "name": "stderr",
     "output_type": "stream",
     "text": [
      "[nltk_data] Downloading package punkt to\n",
      "[nltk_data]     C:\\Users\\namti\\AppData\\Roaming\\nltk_data...\n",
      "[nltk_data]   Package punkt is already up-to-date!\n",
      "[nltk_data] Downloading package averaged_perceptron_tagger to\n",
      "[nltk_data]     C:\\Users\\namti\\AppData\\Roaming\\nltk_data...\n"
     ]
    },
    {
     "name": "stdout",
     "output_type": "stream",
     "text": [
      "[('Tôi', 'NNP'), ('thích', 'NN'), ('học', 'NN'), ('AI', 'NNP'), ('và', 'NN'), ('Toán', 'NNP')]\n"
     ]
    },
    {
     "name": "stderr",
     "output_type": "stream",
     "text": [
      "[nltk_data]   Unzipping taggers\\averaged_perceptron_tagger.zip.\n"
     ]
    }
   ],
   "source": [
    "import nltk\n",
    "from nltk.tokenize import word_tokenize\n",
    "\n",
    "nltk.download('punkt')\n",
    "nltk.download('averaged_perceptron_tagger')\n",
    "\n",
    "data = \"Tôi thích học AI và Toán\"\n",
    "\n",
    "# Bước 1: Tokenize data\n",
    "tokenization = word_tokenize(data)\n",
    "# Bước 2: gọi thư viện Pos tagging\n",
    "result = nltk.pos_tag(tokenization)\n",
    "print(result)"
   ]
  }
 ],
 "metadata": {
  "kernelspec": {
   "display_name": "aio24_env",
   "language": "python",
   "name": "python3"
  },
  "language_info": {
   "codemirror_mode": {
    "name": "ipython",
    "version": 3
   },
   "file_extension": ".py",
   "mimetype": "text/x-python",
   "name": "python",
   "nbconvert_exporter": "python",
   "pygments_lexer": "ipython3",
   "version": "3.11.7"
  }
 },
 "nbformat": 4,
 "nbformat_minor": 2
}
