{
 "cells": [
  {
   "cell_type": "code",
   "execution_count": 4,
   "metadata": {},
   "outputs": [],
   "source": [
    "import sqlite3\n",
    "import pandas as pd\n",
    "\n",
    "conn = sqlite3.connect('database.sqlite')\n",
    "cursor = conn.cursor()"
   ]
  },
  {
   "cell_type": "code",
   "execution_count": 5,
   "metadata": {},
   "outputs": [
    {
     "data": {
      "text/plain": [
       "<sqlite3.Cursor at 0x152d2c578c0>"
      ]
     },
     "execution_count": 5,
     "metadata": {},
     "output_type": "execute_result"
    }
   ],
   "source": [
    "# Hãy tạo mới bảng có tên STOCK có các cột như sau: ID (INTEGER, primary key), NAME (TEXT), BUY (INTEGER), INVESTOR (TEXT)\n",
    "cursor.execute('''\n",
    "create table if not exists STOCKS (\n",
    "                ID INTEGER PRIMARY KEY,\n",
    "                NAME TEXT,\n",
    "                BUY INTEGER,\n",
    "                INVESTOR TEXT\n",
    ");\n",
    "''')"
   ]
  },
  {
   "cell_type": "code",
   "execution_count": 6,
   "metadata": {},
   "outputs": [
    {
     "data": {
      "text/plain": [
       "<sqlite3.Cursor at 0x152d2c578c0>"
      ]
     },
     "execution_count": 6,
     "metadata": {},
     "output_type": "execute_result"
    }
   ],
   "source": [
    "# Hãy thêm mới các dòng có giá trị:\n",
    "cursor.execute('''\n",
    "insert into STOCKS (ID, NAME, BUY, INVESTOR) values \n",
    "               (1 ,'ACB', 29.45, 'Nguyen'),\n",
    "               (2, 'VIC', 44.55, 'Nguyen'),\n",
    "               (3, 'GMD', 74.30, 'Nguyen'),\n",
    "               (4, 'ACB', 28.45, 'Vinh'),\n",
    "               (5, 'VIC', 40.55, 'Vinh'),\n",
    "               (6, 'GMD', 60.30, 'Vinh');\n",
    "''')"
   ]
  },
  {
   "cell_type": "code",
   "execution_count": 8,
   "metadata": {},
   "outputs": [
    {
     "name": "stdout",
     "output_type": "stream",
     "text": [
      "   Total_Buy\n",
      "0      277.6\n"
     ]
    }
   ],
   "source": [
    "# Câu 1: Hãy viết lệnh SQL để truy vấn và in ra kết quả thống kê tổng giá bán\n",
    "# (BUY) của bảng STOCK\n",
    "query = '''\n",
    "select sum(buy) as Total_Buy\n",
    "from STOCKS\n",
    "'''\n",
    "\n",
    "data_sum = pd.read_sql_query(query, conn)\n",
    "print(data_sum)"
   ]
  },
  {
   "cell_type": "code",
   "execution_count": 9,
   "metadata": {},
   "outputs": [
    {
     "name": "stdout",
     "output_type": "stream",
     "text": [
      "  INVESTOR NAME  MAX_PRICE\n",
      "0   Nguyen  GMD       74.3\n",
      "1     Vinh  GMD       60.3\n"
     ]
    }
   ],
   "source": [
    "# Câu 2: Hãy viết lệnh SQL để thống kê mã cổ phiếu có giá mua (BUY) lớn nhất\n",
    "# theo nhà đầu tư (Investor):\n",
    "\n",
    "query = '''\n",
    "select INVESTOR, NAME, max(BUY) as MAX_PRICE\n",
    "from STOCKS\n",
    "group by INVESTOR\n",
    "'''\n",
    "\n",
    "data_max_price = pd.read_sql_query(query, conn)\n",
    "print(data_max_price)\n"
   ]
  }
 ],
 "metadata": {
  "kernelspec": {
   "display_name": "aio24_env",
   "language": "python",
   "name": "python3"
  },
  "language_info": {
   "codemirror_mode": {
    "name": "ipython",
    "version": 3
   },
   "file_extension": ".py",
   "mimetype": "text/x-python",
   "name": "python",
   "nbconvert_exporter": "python",
   "pygments_lexer": "ipython3",
   "version": "3.11.7"
  }
 },
 "nbformat": 4,
 "nbformat_minor": 2
}
