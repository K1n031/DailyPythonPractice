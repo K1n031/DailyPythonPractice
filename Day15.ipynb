{
 "cells": [
  {
   "cell_type": "code",
   "execution_count": null,
   "metadata": {},
   "outputs": [],
   "source": [
    "# Tạo List có tên là lst_data = [1, 1.1, None, 1.4, None, 1.5, None, 2.0]. Sau đó áp dụng nội suy\n",
    "# Nearest Neighbor để gắn giá trị None có trong lst_data\n",
    "\n",
    "lst_data = [1, 1.1, None, 1.4, None, 1.5, None, 2.0]\n",
    "\n",
    "for i, value in enumerate(lst_data):\n",
    "    if value is None:\n",
    "        lst_data[i] = lst_data[i-1]\n",
    "\n",
    "print(lst_data)"
   ]
  }
 ],
 "metadata": {
  "kernelspec": {
   "display_name": "aio24_env",
   "language": "python",
   "name": "python3"
  },
  "language_info": {
   "codemirror_mode": {
    "name": "ipython",
    "version": 3
   },
   "file_extension": ".py",
   "mimetype": "text/x-python",
   "name": "python",
   "nbconvert_exporter": "python",
   "pygments_lexer": "ipython3",
   "version": "3.11.7"
  }
 },
 "nbformat": 4,
 "nbformat_minor": 2
}
