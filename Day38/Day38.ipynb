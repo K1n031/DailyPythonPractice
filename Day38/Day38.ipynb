{
 "cells": [
  {
   "cell_type": "code",
   "execution_count": 3,
   "metadata": {},
   "outputs": [],
   "source": [
    "import pandas as pd\n",
    "import wandb\n",
    "\n",
    "areas = [6.7, 4.6, 3.5, 5.5]\n",
    "prices = [9.1, 5.9, 4.6, 6.7]\n",
    "\n",
    "dataset = pd.DataFrame({\n",
    "    'areas': areas,\n",
    "    'prices': prices\n",
    "})\n",
    "\n",
    "def predict(x, w, b):\n",
    "    return w * x + b\n",
    "\n",
    "def gradient(y_hat, y, x):\n",
    "    dw = 2*x*(y_hat - y)\n",
    "    db = 2*(y_hat - y)\n",
    "\n",
    "    return dw, db\n",
    "\n",
    "# Update weights\n",
    "def update_weight(w, b, lr, dw, db):\n",
    "    w_new = w - lr * dw\n",
    "    b_new = b - lr * db\n",
    "\n",
    "    return w_new, b_new"
   ]
  },
  {
   "cell_type": "code",
   "execution_count": 4,
   "metadata": {},
   "outputs": [
    {
     "data": {
      "text/html": [
       "Finishing last run (ID:xp64wru5) before initializing another..."
      ],
      "text/plain": [
       "<IPython.core.display.HTML object>"
      ]
     },
     "metadata": {},
     "output_type": "display_data"
    },
    {
     "data": {
      "application/vnd.jupyter.widget-view+json": {
       "model_id": "4630f7f1abaa4b15862c99f0b1e4250a",
       "version_major": 2,
       "version_minor": 0
      },
      "text/plain": [
       "VBox(children=(Label(value='0.012 MB of 0.023 MB uploaded\\r'), FloatProgress(value=0.5004094333442516, max=1.0…"
      ]
     },
     "metadata": {},
     "output_type": "display_data"
    },
    {
     "data": {
      "text/html": [
       " View run <strong style=\"color:#cdcd00\">true-cosmos-13</strong> at: <a href='https://wandb.ai/namtmh/linear-regression-2/runs/xp64wru5' target=\"_blank\">https://wandb.ai/namtmh/linear-regression-2/runs/xp64wru5</a><br/> View project at: <a href='https://wandb.ai/namtmh/linear-regression-2' target=\"_blank\">https://wandb.ai/namtmh/linear-regression-2</a><br/>Synced 5 W&B file(s), 1 media file(s), 1 artifact file(s) and 0 other file(s)"
      ],
      "text/plain": [
       "<IPython.core.display.HTML object>"
      ]
     },
     "metadata": {},
     "output_type": "display_data"
    },
    {
     "data": {
      "text/html": [
       "Find logs at: <code>.\\wandb\\run-20240411_142603-xp64wru5\\logs</code>"
      ],
      "text/plain": [
       "<IPython.core.display.HTML object>"
      ]
     },
     "metadata": {},
     "output_type": "display_data"
    },
    {
     "data": {
      "text/html": [
       "Successfully finished last run (ID:xp64wru5). Initializing new run:<br/>"
      ],
      "text/plain": [
       "<IPython.core.display.HTML object>"
      ]
     },
     "metadata": {},
     "output_type": "display_data"
    },
    {
     "data": {
      "application/vnd.jupyter.widget-view+json": {
       "model_id": "eb73fb2dd63d470a8f741205d7097aaa",
       "version_major": 2,
       "version_minor": 0
      },
      "text/plain": [
       "VBox(children=(Label(value='Waiting for wandb.init()...\\r'), FloatProgress(value=0.011288888888884685, max=1.0…"
      ]
     },
     "metadata": {},
     "output_type": "display_data"
    },
    {
     "data": {
      "text/html": [
       "Tracking run with wandb version 0.16.6"
      ],
      "text/plain": [
       "<IPython.core.display.HTML object>"
      ]
     },
     "metadata": {},
     "output_type": "display_data"
    },
    {
     "data": {
      "text/html": [
       "Run data is saved locally in <code>c:\\AIO24\\Daily_Practice\\Day38\\wandb\\run-20240411_142822-kkgmiuj4</code>"
      ],
      "text/plain": [
       "<IPython.core.display.HTML object>"
      ]
     },
     "metadata": {},
     "output_type": "display_data"
    },
    {
     "data": {
      "text/html": [
       "Syncing run <strong><a href='https://wandb.ai/namtmh/linear-regression/runs/kkgmiuj4' target=\"_blank\">valiant-snowball-3</a></strong> to <a href='https://wandb.ai/namtmh/linear-regression' target=\"_blank\">Weights & Biases</a> (<a href='https://wandb.me/run' target=\"_blank\">docs</a>)<br/>"
      ],
      "text/plain": [
       "<IPython.core.display.HTML object>"
      ]
     },
     "metadata": {},
     "output_type": "display_data"
    },
    {
     "data": {
      "text/html": [
       " View project at <a href='https://wandb.ai/namtmh/linear-regression' target=\"_blank\">https://wandb.ai/namtmh/linear-regression</a>"
      ],
      "text/plain": [
       "<IPython.core.display.HTML object>"
      ]
     },
     "metadata": {},
     "output_type": "display_data"
    },
    {
     "data": {
      "text/html": [
       " View run at <a href='https://wandb.ai/namtmh/linear-regression/runs/kkgmiuj4' target=\"_blank\">https://wandb.ai/namtmh/linear-regression/runs/kkgmiuj4</a>"
      ],
      "text/plain": [
       "<IPython.core.display.HTML object>"
      ]
     },
     "metadata": {},
     "output_type": "display_data"
    },
    {
     "name": "stderr",
     "output_type": "stream",
     "text": [
      "\u001b[34m\u001b[1mwandb\u001b[0m: \u001b[32m\u001b[41mERROR\u001b[0m Control-C detected -- Run data was not synced\n"
     ]
    }
   ],
   "source": [
    "# init weight\n",
    "b = 0.04\n",
    "w = -0.34\n",
    "lr = 0.01\n",
    "epochs = 10\n",
    "\n",
    "# init wandb\n",
    "wandb.init(\n",
    "    # Set the project where this run will be logged\n",
    "    project=\"linear-regression\",\n",
    "    config = {\n",
    "        \"learning_rate\": lr,\n",
    "        \"epochs\": epochs,\n",
    "    },\n",
    ")\n",
    "\n",
    "wandb.run.log({\"Dataset\": wandb.Table(dataframe=dataset)})\n",
    "\n",
    "X_train = dataset['areas']\n",
    "Y_train = dataset['prices']\n",
    "\n",
    "N = len(X_train)\n",
    "\n",
    "# parameter\n",
    "losses = []\n",
    "\n",
    "for epoch in range(epochs):\n",
    "    for i in range(N):\n",
    "        # get sample\n",
    "        x = X_train[i]\n",
    "        y = Y_train[i]\n",
    "\n",
    "        # predict y_hat\n",
    "        y_hat = predict(x, w, b)\n",
    "\n",
    "        # compute loss\n",
    "        loss = (y_hat - y)**2/2.0\n",
    "\n",
    "        # tracking loss with wandb\n",
    "        wandb.log({\"loss\": loss})\n",
    "\n",
    "        # compute gradient\n",
    "        dw, db = gradient(y_hat, y, x)\n",
    "\n",
    "        # update weight\n",
    "        w, b = update_weight(w, b, lr, dw, db)\n",
    "\n",
    "# make a run finish, and uploading all data\n",
    "wandb.finish()\n"
   ]
  }
 ],
 "metadata": {
  "kernelspec": {
   "display_name": "aio24_env",
   "language": "python",
   "name": "python3"
  },
  "language_info": {
   "codemirror_mode": {
    "name": "ipython",
    "version": 3
   },
   "file_extension": ".py",
   "mimetype": "text/x-python",
   "name": "python",
   "nbconvert_exporter": "python",
   "pygments_lexer": "ipython3",
   "version": "3.11.7"
  }
 },
 "nbformat": 4,
 "nbformat_minor": 2
}
