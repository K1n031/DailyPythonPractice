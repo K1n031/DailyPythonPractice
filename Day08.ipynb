{
 "cells": [
  {
   "cell_type": "code",
   "execution_count": 1,
   "metadata": {},
   "outputs": [],
   "source": [
    "# Giúp Tom tìm vị trí của Cà rốt, táo, sữa\n",
    "food_list = [\n",
    "        [\"Bơ\", \"Pizza\", \"Sữa\"],\n",
    "        [\"Xúc xích\", \"Táo\", \"Kem\"],\n",
    "        [\"Cà rốt\", \"Bánh dâu\", \"Cupcake\"]\n",
    "]\n",
    "search_items = [\"Cà rốt\", \"Táo\", \"Sữa\"]"
   ]
  },
  {
   "cell_type": "code",
   "execution_count": 5,
   "metadata": {},
   "outputs": [
    {
     "name": "stdout",
     "output_type": "stream",
     "text": [
      "Sữa được tìm thấy ở hàng 1 và cột 3\n",
      "Táo được tìm thấy ở hàng 2 và cột 2\n",
      "Cà rốt được tìm thấy ở hàng 3 và cột 1\n"
     ]
    }
   ],
   "source": [
    "#Method 1\n",
    "for i in range(len(food_list)):\n",
    "    for j in range(len(food_list[i])):\n",
    "        if food_list[i][j] in search_items:\n",
    "            print(f\"{food_list[i][j]} được tìm thấy ở hàng \"\n",
    "                  f\"{i + 1} và cột {j + 1}\")"
   ]
  },
  {
   "cell_type": "code",
   "execution_count": 6,
   "metadata": {},
   "outputs": [
    {
     "name": "stdout",
     "output_type": "stream",
     "text": [
      "Sữa được tìm thấy ở hàng 1 và cột 3\n",
      "Táo được tìm thấy ở hàng 2 và cột 2\n",
      "Cà rốt được tìm thấy ở hàng 3 và cột 1\n"
     ]
    }
   ],
   "source": [
    "#Method 2\n",
    "for i, row in enumerate(food_list, start=1):\n",
    "    for j, items in enumerate(row, start=1):\n",
    "        if items in search_items:\n",
    "            print(f\"{items} được tìm thấy ở hàng \"\n",
    "                  f\"{i} và cột {j}\")"
   ]
  }
 ],
 "metadata": {
  "kernelspec": {
   "display_name": "aio24_env",
   "language": "python",
   "name": "python3"
  },
  "language_info": {
   "codemirror_mode": {
    "name": "ipython",
    "version": 3
   },
   "file_extension": ".py",
   "mimetype": "text/x-python",
   "name": "python",
   "nbconvert_exporter": "python",
   "pygments_lexer": "ipython3",
   "version": "3.11.7"
  }
 },
 "nbformat": 4,
 "nbformat_minor": 2
}
