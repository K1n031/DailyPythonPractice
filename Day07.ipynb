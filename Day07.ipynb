{
 "cells": [
  {
   "cell_type": "code",
   "execution_count": 36,
   "metadata": {},
   "outputs": [
    {
     "name": "stdout",
     "output_type": "stream",
     "text": [
      "[2, 4, 6, 8, 10, 12]\n"
     ]
    }
   ],
   "source": [
    "#Câu 1\n",
    "lst_data = [2, 4, 6, 8, 10, 12]\n",
    "print(lst_data)"
   ]
  },
  {
   "cell_type": "code",
   "execution_count": 37,
   "metadata": {},
   "outputs": [
    {
     "name": "stdout",
     "output_type": "stream",
     "text": [
      "[2, 4, 8, 10]\n"
     ]
    }
   ],
   "source": [
    "#Câu 2\n",
    "for i in lst_data:\n",
    "    if i % 3 == 0:\n",
    "        lst_data.remove(i)\n",
    "print(lst_data)"
   ]
  },
  {
   "cell_type": "code",
   "execution_count": 29,
   "metadata": {},
   "outputs": [
    {
     "name": "stdout",
     "output_type": "stream",
     "text": [
      "[2, 4, 8, 10, 1, 2, 3]\n",
      "[2, 4, 8, 6, 7, 8, 10, 1, 2, 3]\n"
     ]
    }
   ],
   "source": [
    "#Câu 3\n",
    "lst_data.append(1)\n",
    "lst_data.append(2)\n",
    "lst_data.append(3)\n",
    "print(lst_data)\n",
    "\n",
    "lst_data.insert(3, 6)\n",
    "lst_data.insert(4, 7) \n",
    "lst_data.insert(5, 8)\n",
    "print(lst_data)"
   ]
  },
  {
   "cell_type": "code",
   "execution_count": 30,
   "metadata": {},
   "outputs": [
    {
     "name": "stdout",
     "output_type": "stream",
     "text": [
      "[0, 0, 0, 0, 7, 0, 0, 1, 0, 3]\n"
     ]
    }
   ],
   "source": [
    "#Câu 4\n",
    "for i in range(len(lst_data)):\n",
    "  if lst_data[i] % 2 == 0 or lst_data[i] % 5 == 0:\n",
    "    lst_data[i] = 0\n",
    "print(lst_data)"
   ]
  }
 ],
 "metadata": {
  "kernelspec": {
   "display_name": "aio24_env",
   "language": "python",
   "name": "python3"
  },
  "language_info": {
   "codemirror_mode": {
    "name": "ipython",
    "version": 3
   },
   "file_extension": ".py",
   "mimetype": "text/x-python",
   "name": "python",
   "nbconvert_exporter": "python",
   "pygments_lexer": "ipython3",
   "version": "3.11.7"
  }
 },
 "nbformat": 4,
 "nbformat_minor": 2
}
