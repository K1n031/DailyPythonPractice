{
 "cells": [
  {
   "cell_type": "code",
   "execution_count": 4,
   "metadata": {},
   "outputs": [
    {
     "name": "stdout",
     "output_type": "stream",
     "text": [
      "[[1, 3], [4, 6], [7, 9]]\n"
     ]
    }
   ],
   "source": [
    "# Tạo List 2D có tên là lst_data dạng 3x3, gồm các số từ 1 đến 9,\n",
    "# ứng với các vị trí trong List. Sau đó tạo list khác có tên là\n",
    "# lst_sub_data là 2D List ddeer lưu giá trị tại vị trí index thứ\n",
    "# 0 và thứ 2 của lst_data (Chỉ sử dụng For). In ra màn hình kết quả\n",
    "# của lst_sub_data\n",
    "\n",
    "lst_data = [\n",
    "    [1, 2, 3],\n",
    "    [4, 5, 6],\n",
    "    [7, 8, 9]\n",
    "]\n",
    "\n",
    "lst_sub_data =[]\n",
    "\n",
    "for row in lst_data:\n",
    "    sub_row = []\n",
    "    for j, col in enumerate(row):\n",
    "        if j == 0 or j == 2:\n",
    "            sub_row.append(col)\n",
    "    lst_sub_data.append(sub_row)\n",
    "\n",
    "print(lst_sub_data)\n"
   ]
  },
  {
   "cell_type": "code",
   "execution_count": 21,
   "metadata": {},
   "outputs": [
    {
     "name": "stdout",
     "output_type": "stream",
     "text": [
      "Tổng: [[3, 6, 9], [5, 8, 11], [8, 8, 10]]\n",
      "Hiệu: [[-1, -2, -3], [3, 2, 1], [6, 8, 8]]\n",
      "Dot product: [[7, 10, 19], [19, 31, 55], [31, 52, 91]]\n"
     ]
    }
   ],
   "source": [
    "# Cho 2 ma trận A = [[1, 2, 3], [4, 5, 6], [7, 8, 9]] và B = [[2, 4, 6], [1, 3, 5], [1, 0, 1]]\n",
    "# Sử dụng python không dùng numpy\n",
    "# Câu 1: Tính tổng và hiệu 2 ma trận A + B và A - B\n",
    "\n",
    "mat_a = [[1, 2, 3], [4, 5, 6], [7, 8, 9]]\n",
    "mat_b = [[2, 4, 6], [1, 3, 5], [1, 0, 1]]\n",
    "\n",
    "sum = []\n",
    "sub = []\n",
    "\n",
    "for i, row in enumerate(mat_a):\n",
    "    sub_sum_row = []\n",
    "    sub_sub_row = []\n",
    "    for j, col in enumerate(row):\n",
    "        sub_sum_row.append(mat_a[i][j] + mat_b[i][j])\n",
    "        sub_sub_row.append(mat_a[i][j] - mat_b[i][j])\n",
    "    sum.append(sub_sum_row)\n",
    "    sub.append(sub_sub_row)\n",
    "\n",
    "print(f\"Tổng: {sum}\")\n",
    "print(f\"Hiệu: {sub}\")\n",
    "\n",
    "# Câu 2: Tính dot product 2 ma trận\n",
    "dot_product = []\n",
    "\n",
    "for i in range(len(mat_a)):\n",
    "    row_dots = []\n",
    "    for j in range(len(mat_b[0])):\n",
    "        row_dot = 0\n",
    "        for k in range(len(mat_a[0])):\n",
    "            row_dot += mat_a[i][k] * mat_b[k][j]\n",
    "        row_dots.append(row_dot)\n",
    "    dot_product.append(row_dots)\n",
    "\n",
    "print(f\"Dot product: {dot_product}\")"
   ]
  }
 ],
 "metadata": {
  "kernelspec": {
   "display_name": "aio24_env",
   "language": "python",
   "name": "python3"
  },
  "language_info": {
   "codemirror_mode": {
    "name": "ipython",
    "version": 3
   },
   "file_extension": ".py",
   "mimetype": "text/x-python",
   "name": "python",
   "nbconvert_exporter": "python",
   "pygments_lexer": "ipython3",
   "version": "3.11.7"
  }
 },
 "nbformat": 4,
 "nbformat_minor": 2
}
