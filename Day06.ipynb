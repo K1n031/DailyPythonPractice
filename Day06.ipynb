{
 "cells": [
  {
   "cell_type": "code",
   "execution_count": null,
   "metadata": {},
   "outputs": [],
   "source": [
    "time = input(\"Input time: \")\n",
    "\n",
    "if time == \"5 AM\":\n",
    "    print(\"Wake up\")\n",
    "elif time == \"6 AM\":\n",
    "    print(\"Yoga\")\n",
    "elif time == \"7 AM\":\n",
    "    print(\"Work\")\n",
    "else:\n",
    "    print(\"Do something else\")"
   ]
  },
  {
   "cell_type": "code",
   "execution_count": null,
   "metadata": {},
   "outputs": [],
   "source": [
    "todo = {\n",
    "    \"5 AM\": \"Wake up\",\n",
    "    \"6 AM\": \"Yoga\",\n",
    "    \"7 AM\": \"Work\"\n",
    "}\n",
    "time = input(\"Input time: \")\n",
    "todo.get(time, \"Do something else\")"
   ]
  },
  {
   "cell_type": "code",
   "execution_count": 2,
   "metadata": {},
   "outputs": [
    {
     "name": "stdout",
     "output_type": "stream",
     "text": [
      "Do something else\n"
     ]
    }
   ],
   "source": [
    "time = input(\"Input time: \")\n",
    "\n",
    "match time:\n",
    "    case \"5 AM\": print(\"Wake up\")\n",
    "    case \"6 AM\": print(\"Yoga\")\n",
    "    case \"7 AM\": print(\"Workd\")\n",
    "    case _: print(\"Do something else\")"
   ]
  }
 ],
 "metadata": {
  "kernelspec": {
   "display_name": "aio24_env",
   "language": "python",
   "name": "python3"
  },
  "language_info": {
   "codemirror_mode": {
    "name": "ipython",
    "version": 3
   },
   "file_extension": ".py",
   "mimetype": "text/x-python",
   "name": "python",
   "nbconvert_exporter": "python",
   "pygments_lexer": "ipython3",
   "version": "3.11.7"
  }
 },
 "nbformat": 4,
 "nbformat_minor": 2
}
