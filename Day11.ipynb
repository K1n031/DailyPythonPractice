{
 "cells": [
  {
   "cell_type": "code",
   "execution_count": 12,
   "metadata": {},
   "outputs": [
    {
     "data": {
      "text/plain": [
       "'Tôi thích môn Toán Tôi thích AI Tôi thích âm nhạc'"
      ]
     },
     "execution_count": 12,
     "metadata": {},
     "output_type": "execute_result"
    }
   ],
   "source": [
    "corpus = [\"Tôi thích môn Toán\", \"Tôi thích AI\", \"Tôi thích âm nhạc\"]\n",
    "#Gộp 3 câu lại thành 1\n",
    "data = ' '.join(corpus)\n",
    "\n",
    "data"
   ]
  },
  {
   "cell_type": "code",
   "execution_count": 13,
   "metadata": {},
   "outputs": [
    {
     "data": {
      "text/plain": [
       "['AI', 'âm', 'Toán', 'nhạc', 'môn', 'thích', 'Tôi']"
      ]
     },
     "execution_count": 13,
     "metadata": {},
     "output_type": "execute_result"
    }
   ],
   "source": [
    "distinct_words = list(set(data.split()))\n",
    "length = len(distinct_words)\n",
    "\n",
    "distinct_words"
   ]
  },
  {
   "cell_type": "code",
   "execution_count": 14,
   "metadata": {},
   "outputs": [
    {
     "name": "stdout",
     "output_type": "stream",
     "text": [
      "0 AI\n",
      "1 âm\n",
      "2 Toán\n",
      "3 nhạc\n",
      "4 môn\n",
      "5 thích\n",
      "6 Tôi\n"
     ]
    }
   ],
   "source": [
    "for i, word in enumerate(distinct_words):\n",
    "    print(i, word)"
   ]
  },
  {
   "cell_type": "code",
   "execution_count": 15,
   "metadata": {},
   "outputs": [
    {
     "name": "stdout",
     "output_type": "stream",
     "text": [
      "[1, 0, 1, 0, 0, 2, 1]\n"
     ]
    }
   ],
   "source": [
    "sample = \"Tôi thích AI thích Toán\"\n",
    "sample_vec = [0]*length\n",
    "sample_words = sample.split()\n",
    "for word in sample_words:\n",
    "    sample_vec[distinct_words.index(word)] += 1\n",
    "print(sample_vec)"
   ]
  }
 ],
 "metadata": {
  "kernelspec": {
   "display_name": "aio24_env",
   "language": "python",
   "name": "python3"
  },
  "language_info": {
   "codemirror_mode": {
    "name": "ipython",
    "version": 3
   },
   "file_extension": ".py",
   "mimetype": "text/x-python",
   "name": "python",
   "nbconvert_exporter": "python",
   "pygments_lexer": "ipython3",
   "version": "3.11.7"
  }
 },
 "nbformat": 4,
 "nbformat_minor": 2
}
