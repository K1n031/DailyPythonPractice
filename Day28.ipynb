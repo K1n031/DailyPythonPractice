{
 "cells": [
  {
   "cell_type": "code",
   "execution_count": 12,
   "metadata": {},
   "outputs": [
    {
     "name": "stdout",
     "output_type": "stream",
     "text": [
      "Tiếng anh: The Suno AI tool quickly gets users' attention when it is possible to create a song with just a few commands. The latest version of V3 Alpha was just introduced at the end of February, there is a free version with 10 songs per day.\n",
      "Tiếng nhật: Suno AIツールは、いくつかのコマンドで曲を作成できるときに、ユーザーの注意を素早く引きます。V 3 Alphaの最新バージョンは2月末に発売されたばかりで、1日10曲の無料バージョンがあります。\n"
     ]
    }
   ],
   "source": [
    "from translate import Translator\n",
    "\n",
    "text = 'Công cụ Suno AI nhanh chóng nhận được sự chú ý từ người dùng khi có thể tạo bài hát chỉ với vài câu lệnh. Phiên bản mới nhất V3 Alpha mới được giới thiệu cuối tháng 2, có bản miễn phí với 10 bài hát mỗi ngày.'\n",
    "\n",
    "translator_eng = Translator(to_lang=\"en\", from_lang=\"vi\")\n",
    "translator_jp = Translator(to_lang=\"ja\", from_lang=\"vi\")\n",
    "\n",
    "translation_eng = translator_eng.translate(text)\n",
    "translation_jp = translator_jp.translate(text)\n",
    "\n",
    "print(\"Tiếng anh:\", translation_eng)\n",
    "print(\"Tiếng nhật:\", translation_jp)"
   ]
  },
  {
   "cell_type": "code",
   "execution_count": 14,
   "metadata": {},
   "outputs": [
    {
     "name": "stdout",
     "output_type": "stream",
     "text": [
      "Tiếng anh: Suno AI tools quickly get attention from users when they can create a song with just a few statements.The latest version of V3 Alpha was introduced at the end of February, with a free version with 10 songs a day.\n",
      "Tiếng nhật: Suno AIツールは、ユーザーがいくつかのステートメントで曲を作成できる場合、ユーザーからすぐに注目を集めます。V3 Alphaの最新バージョンは2月末に紹介され、1日10曲の無料バージョンがありました。\n"
     ]
    }
   ],
   "source": [
    "from googletrans import Translator\n",
    "\n",
    "translate = Translator()\n",
    "result_eng = translate.translate(text, dest='en')\n",
    "result_jp = translate.translate(text, dest='ja')\n",
    "\n",
    "print(\"Tiếng anh:\", result_eng.text)\n",
    "print(\"Tiếng nhật:\", result_jp.text)"
   ]
  }
 ],
 "metadata": {
  "kernelspec": {
   "display_name": "aio24_env",
   "language": "python",
   "name": "python3"
  },
  "language_info": {
   "codemirror_mode": {
    "name": "ipython",
    "version": 3
   },
   "file_extension": ".py",
   "mimetype": "text/x-python",
   "name": "python",
   "nbconvert_exporter": "python",
   "pygments_lexer": "ipython3",
   "version": "3.11.7"
  }
 },
 "nbformat": 4,
 "nbformat_minor": 2
}
